{
 "cells": [
  {
   "cell_type": "markdown",
   "id": "2d3d0340-5468-401d-b986-437b93f1c19a",
   "metadata": {
    "editable": true,
    "slideshow": {
     "slide_type": ""
    },
    "tags": []
   },
   "source": [
    "# Cyclistic共享单车数据分析项目"
   ]
  },
  {
   "cell_type": "markdown",
   "id": "0e7f5f93-32f9-4dcc-aacb-9b7f89d47226",
   "metadata": {
    "editable": true,
    "slideshow": {
     "slide_type": ""
    },
    "tags": []
   },
   "source": [
    "- 项目负责：田浩\n",
    "- 开始时间: 2025.06.21"
   ]
  },
  {
   "cell_type": "markdown",
   "id": "de536a4e-346e-4abb-b8c9-281dfe73aa4a",
   "metadata": {
    "editable": true,
    "jp-MarkdownHeadingCollapsed": true,
    "slideshow": {
     "slide_type": ""
    },
    "tags": []
   },
   "source": [
    "## 背景\n",
    "- 芝加哥一家共享单车公司 Cyclistic 营销总监认为，公司未来的成功取决于年度会员数量的最大化.希望了解临时会员和年度会员使用 Cyclistic自行车的不同方式。根据这些洞察，营销团队将设计一种新的营销策略，将临时会员转化为年度会员。\n",
    "- 这些洞察需要数据以及可视化的支持，因此由我作为数据分析师展开此项目\n"
   ]
  },
  {
   "cell_type": "markdown",
   "id": "71b8bd19-738f-4731-9d29-4e8dc8d788b5",
   "metadata": {
    "editable": true,
    "slideshow": {
     "slide_type": ""
    },
    "tags": []
   },
   "source": [
    "## 利益人\n",
    "- 营销总监兼经理\n",
    "- 执行团队：以注重细节著称的执行团队将决定是否批准建议的营销计划。"
   ]
  },
  {
   "cell_type": "markdown",
   "id": "bda80a8c-ce90-4fc1-b0f6-92fa65b666c1",
   "metadata": {
    "editable": true,
    "slideshow": {
     "slide_type": ""
    },
    "tags": []
   },
   "source": [
    "| #  | 列名                   | 类型 (Dtype)     | 说明                                       |\n",
    "| -- | ---------------------- | ---------------- | ------------------------------------------ |\n",
    "| 0  | ride_id                | object           | 骑行 ID，通常是字符串                      |\n",
    "| 1  | rideable_type          | object           | 车辆类型，例如 \"electric_bike\"、\"classic_bike\" |\n",
    "| 2  | started_at             | datetime64[ns]   | 骑行开始时间                               |\n",
    "| 3  | ended_at               | datetime64[ns]   | 骑行结束时间                               |\n",
    "| 4  | start_station_name     | object           | 起始站点名称                               |\n",
    "| 5  | start_station_id       | object           | 起始站点 ID（可能是字符串）                |\n",
    "| 6  | end_station_name       | object           | 终点站名称                                 |\n",
    "| 7  | end_station_id         | object           | 终点站 ID                                  |\n",
    "| 8  | start_lat              | float64          | 起点纬度                                   |\n",
    "| 9  | start_lng              | float64          | 起点经度                                   |\n",
    "| 10 | end_lat                | float64          | 终点纬度                                   |\n",
    "| 11 | end_lng                | float64          | 终点经度                                   |\n",
    "| 12 | member_casual          | object           | 用户类型（会员或非会员）                   |\n",
    "|    | **↓ 以下为分析用新增字段 ↓** |                  |                                            |\n",
    "| 13 | raid_duration_min      | float64          | 骑行总时长（分钟）                         |\n",
    "| 14 | start_hour             | int64            | 骑行开始时间的小时（0–23）                 |\n",
    "| 15 | start_month            | int64            | 骑行开始的月份（1–12）                     |\n",
    "| 16 | start_date             | object           | 骑行开始的日期（年-月-日）                 |\n",
    "| 17 | start_day_of_week      | int64            | 骑行开始是星期几（0=周一，6=周日）         |\n",
    "| 18 | is_weekend             | bool             | 是否为周末（周六/周日）                    |\n",
    "| 19 | start_station_misson   | bool             | 起始站点是否为 UNKNOW_STAR（布尔值）       |\n",
    "| 20 | end_station_misson     | bool             | 终点站点是否为 UNKNOW_END（布尔值）        |\n"
   ]
  },
  {
   "cell_type": "markdown",
   "id": "3e0fab86-4292-4ecc-990b-03b911f10987",
   "metadata": {},
   "source": [
    "### 分析目标：理解会员用户与临时会员的使用行为差异"
   ]
  },
  {
   "cell_type": "code",
   "execution_count": 1,
   "id": "19a72997-6d3f-4a1b-b715-cc96bdb5cef3",
   "metadata": {},
   "outputs": [],
   "source": [
    "# 导入Python库\n",
    "import pandas as pd\n",
    "import numpy as np"
   ]
  },
  {
   "cell_type": "markdown",
   "id": "6b126c5f-7a02-4da1-827a-e13a02d46ba8",
   "metadata": {},
   "source": [
    "# ♻ 数据评估与清洗"
   ]
  },
  {
   "cell_type": "markdown",
   "id": "b76d407e-dc0e-46ea-bf99-439f08866131",
   "metadata": {},
   "source": [
    "使用数据集为 2024年12个月的数据"
   ]
  },
  {
   "cell_type": "code",
   "execution_count": 2,
   "id": "f963c111-99f2-46d7-a2f3-baf1f6d681b1",
   "metadata": {},
   "outputs": [
    {
     "data": {
      "text/html": [
       "<div>\n",
       "<style scoped>\n",
       "    .dataframe tbody tr th:only-of-type {\n",
       "        vertical-align: middle;\n",
       "    }\n",
       "\n",
       "    .dataframe tbody tr th {\n",
       "        vertical-align: top;\n",
       "    }\n",
       "\n",
       "    .dataframe thead th {\n",
       "        text-align: right;\n",
       "    }\n",
       "</style>\n",
       "<table border=\"1\" class=\"dataframe\">\n",
       "  <thead>\n",
       "    <tr style=\"text-align: right;\">\n",
       "      <th></th>\n",
       "      <th>ride_id</th>\n",
       "      <th>rideable_type</th>\n",
       "      <th>started_at</th>\n",
       "      <th>ended_at</th>\n",
       "      <th>start_station_name</th>\n",
       "      <th>start_station_id</th>\n",
       "      <th>end_station_name</th>\n",
       "      <th>end_station_id</th>\n",
       "      <th>start_lat</th>\n",
       "      <th>start_lng</th>\n",
       "      <th>end_lat</th>\n",
       "      <th>end_lng</th>\n",
       "      <th>member_casual</th>\n",
       "    </tr>\n",
       "  </thead>\n",
       "  <tbody>\n",
       "    <tr>\n",
       "      <th>0</th>\n",
       "      <td>C1D650626C8C899A</td>\n",
       "      <td>electric_bike</td>\n",
       "      <td>2024-01-12 15:30:27</td>\n",
       "      <td>2024-01-12 15:37:59</td>\n",
       "      <td>Wells St &amp; Elm St</td>\n",
       "      <td>KA1504000135</td>\n",
       "      <td>Kingsbury St &amp; Kinzie St</td>\n",
       "      <td>KA1503000043</td>\n",
       "      <td>41.903267</td>\n",
       "      <td>-87.634737</td>\n",
       "      <td>41.889177</td>\n",
       "      <td>-87.638506</td>\n",
       "      <td>member</td>\n",
       "    </tr>\n",
       "    <tr>\n",
       "      <th>1</th>\n",
       "      <td>EECD38BDB25BFCB0</td>\n",
       "      <td>electric_bike</td>\n",
       "      <td>2024-01-08 15:45:46</td>\n",
       "      <td>2024-01-08 15:52:59</td>\n",
       "      <td>Wells St &amp; Elm St</td>\n",
       "      <td>KA1504000135</td>\n",
       "      <td>Kingsbury St &amp; Kinzie St</td>\n",
       "      <td>KA1503000043</td>\n",
       "      <td>41.902937</td>\n",
       "      <td>-87.634440</td>\n",
       "      <td>41.889177</td>\n",
       "      <td>-87.638506</td>\n",
       "      <td>member</td>\n",
       "    </tr>\n",
       "    <tr>\n",
       "      <th>2</th>\n",
       "      <td>F4A9CE78061F17F7</td>\n",
       "      <td>electric_bike</td>\n",
       "      <td>2024-01-27 12:27:19</td>\n",
       "      <td>2024-01-27 12:35:19</td>\n",
       "      <td>Wells St &amp; Elm St</td>\n",
       "      <td>KA1504000135</td>\n",
       "      <td>Kingsbury St &amp; Kinzie St</td>\n",
       "      <td>KA1503000043</td>\n",
       "      <td>41.902951</td>\n",
       "      <td>-87.634470</td>\n",
       "      <td>41.889177</td>\n",
       "      <td>-87.638506</td>\n",
       "      <td>member</td>\n",
       "    </tr>\n",
       "    <tr>\n",
       "      <th>3</th>\n",
       "      <td>0A0D9E15EE50B171</td>\n",
       "      <td>classic_bike</td>\n",
       "      <td>2024-01-29 16:26:17</td>\n",
       "      <td>2024-01-29 16:56:06</td>\n",
       "      <td>Wells St &amp; Randolph St</td>\n",
       "      <td>TA1305000030</td>\n",
       "      <td>Larrabee St &amp; Webster Ave</td>\n",
       "      <td>13193</td>\n",
       "      <td>41.884295</td>\n",
       "      <td>-87.633963</td>\n",
       "      <td>41.921822</td>\n",
       "      <td>-87.644140</td>\n",
       "      <td>member</td>\n",
       "    </tr>\n",
       "    <tr>\n",
       "      <th>4</th>\n",
       "      <td>33FFC9805E3EFF9A</td>\n",
       "      <td>classic_bike</td>\n",
       "      <td>2024-01-31 05:43:23</td>\n",
       "      <td>2024-01-31 06:09:35</td>\n",
       "      <td>Lincoln Ave &amp; Waveland Ave</td>\n",
       "      <td>13253</td>\n",
       "      <td>Kingsbury St &amp; Kinzie St</td>\n",
       "      <td>KA1503000043</td>\n",
       "      <td>41.948797</td>\n",
       "      <td>-87.675278</td>\n",
       "      <td>41.889177</td>\n",
       "      <td>-87.638506</td>\n",
       "      <td>member</td>\n",
       "    </tr>\n",
       "  </tbody>\n",
       "</table>\n",
       "</div>"
      ],
      "text/plain": [
       "            ride_id  rideable_type           started_at             ended_at  \\\n",
       "0  C1D650626C8C899A  electric_bike  2024-01-12 15:30:27  2024-01-12 15:37:59   \n",
       "1  EECD38BDB25BFCB0  electric_bike  2024-01-08 15:45:46  2024-01-08 15:52:59   \n",
       "2  F4A9CE78061F17F7  electric_bike  2024-01-27 12:27:19  2024-01-27 12:35:19   \n",
       "3  0A0D9E15EE50B171   classic_bike  2024-01-29 16:26:17  2024-01-29 16:56:06   \n",
       "4  33FFC9805E3EFF9A   classic_bike  2024-01-31 05:43:23  2024-01-31 06:09:35   \n",
       "\n",
       "           start_station_name start_station_id           end_station_name  \\\n",
       "0           Wells St & Elm St     KA1504000135   Kingsbury St & Kinzie St   \n",
       "1           Wells St & Elm St     KA1504000135   Kingsbury St & Kinzie St   \n",
       "2           Wells St & Elm St     KA1504000135   Kingsbury St & Kinzie St   \n",
       "3      Wells St & Randolph St     TA1305000030  Larrabee St & Webster Ave   \n",
       "4  Lincoln Ave & Waveland Ave            13253   Kingsbury St & Kinzie St   \n",
       "\n",
       "  end_station_id  start_lat  start_lng    end_lat    end_lng member_casual  \n",
       "0   KA1503000043  41.903267 -87.634737  41.889177 -87.638506        member  \n",
       "1   KA1503000043  41.902937 -87.634440  41.889177 -87.638506        member  \n",
       "2   KA1503000043  41.902951 -87.634470  41.889177 -87.638506        member  \n",
       "3          13193  41.884295 -87.633963  41.921822 -87.644140        member  \n",
       "4   KA1503000043  41.948797 -87.675278  41.889177 -87.638506        member  "
      ]
     },
     "execution_count": 2,
     "metadata": {},
     "output_type": "execute_result"
    }
   ],
   "source": [
    "df = pd.read_csv('C:/Users/vast/Desktop/Cycle项目数据源/2024年12月合并数据.csv')\n",
    "df.head()"
   ]
  },
  {
   "cell_type": "markdown",
   "id": "bbedb64c-afef-409a-bb9b-6a04c70f84ab",
   "metadata": {},
   "source": [
    "### 初步数据探索"
   ]
  },
  {
   "cell_type": "code",
   "execution_count": 3,
   "id": "6618156c-62ca-4829-9b08-1509a86d0802",
   "metadata": {},
   "outputs": [
    {
     "name": "stdout",
     "output_type": "stream",
     "text": [
      "<class 'pandas.core.frame.DataFrame'>\n",
      "RangeIndex: 5860568 entries, 0 to 5860567\n",
      "Data columns (total 13 columns):\n",
      " #   Column              Dtype  \n",
      "---  ------              -----  \n",
      " 0   ride_id             object \n",
      " 1   rideable_type       object \n",
      " 2   started_at          object \n",
      " 3   ended_at            object \n",
      " 4   start_station_name  object \n",
      " 5   start_station_id    object \n",
      " 6   end_station_name    object \n",
      " 7   end_station_id      object \n",
      " 8   start_lat           float64\n",
      " 9   start_lng           float64\n",
      " 10  end_lat             float64\n",
      " 11  end_lng             float64\n",
      " 12  member_casual       object \n",
      "dtypes: float64(4), object(9)\n",
      "memory usage: 581.3+ MB\n"
     ]
    }
   ],
   "source": [
    "df.info()"
   ]
  },
  {
   "cell_type": "markdown",
   "id": "e2a15a52-7760-4044-95d4-447bb3382aa2",
   "metadata": {},
   "source": [
    "\n",
    "- started_at ， ended_at 应修改为时间格式"
   ]
  },
  {
   "cell_type": "markdown",
   "id": "73c22f15-81bd-4586-ad4a-e3add424f924",
   "metadata": {},
   "source": [
    "### 关键字段分析"
   ]
  },
  {
   "cell_type": "code",
   "execution_count": 4,
   "id": "5d0b041d-4b3c-4a7e-9dff-a375a3759097",
   "metadata": {},
   "outputs": [
    {
     "data": {
      "text/plain": [
       "member_casual\n",
       "member    3708910\n",
       "casual    2151658\n",
       "Name: count, dtype: int64"
      ]
     },
     "execution_count": 4,
     "metadata": {},
     "output_type": "execute_result"
    }
   ],
   "source": [
    "df['member_casual'].value_counts()"
   ]
  },
  {
   "cell_type": "code",
   "execution_count": 5,
   "id": "807868a5-1364-4efe-92fa-c6d375150d9e",
   "metadata": {},
   "outputs": [
    {
     "data": {
      "text/plain": [
       "member_casual\n",
       "member    63.3%\n",
       "casual    36.7%\n",
       "Name: proportion, dtype: object"
      ]
     },
     "execution_count": 5,
     "metadata": {},
     "output_type": "execute_result"
    }
   ],
   "source": [
    "# 用户类型分布: 计算关键字段百分比\n",
    "df['member_casual'].value_counts(normalize=True).mul(100).round(1).astype(str) + '%'"
   ]
  },
  {
   "cell_type": "markdown",
   "id": "03726486-c293-41c6-8632-cfa1a69d426e",
   "metadata": {},
   "source": [
    "会员用户占比63.3%  非会员36.7%"
   ]
  },
  {
   "cell_type": "markdown",
   "id": "80a6c43d-688e-4e70-9f20-dfcfeded90a6",
   "metadata": {},
   "source": [
    "### 数据质量检查"
   ]
  },
  {
   "cell_type": "markdown",
   "id": "a2f44129-c05d-4fae-92e7-2bf79aa2324b",
   "metadata": {},
   "source": [
    "- started_at ， ended_at 应修改为时间格式"
   ]
  },
  {
   "cell_type": "code",
   "execution_count": 6,
   "id": "68fd9e46-e3e2-46fe-b773-c03722cf52db",
   "metadata": {},
   "outputs": [
    {
     "data": {
      "text/plain": [
       "0         2024-01-12 15:30:27.000\n",
       "1         2024-01-08 15:45:46.000\n",
       "2         2024-01-27 12:27:19.000\n",
       "3         2024-01-29 16:26:17.000\n",
       "4         2024-01-31 05:43:23.000\n",
       "                    ...          \n",
       "5860563   2024-12-11 08:23:46.564\n",
       "5860564   2024-12-09 12:26:15.677\n",
       "5860565   2024-12-31 17:10:03.113\n",
       "5860566   2024-12-01 14:39:47.216\n",
       "5860567   2024-12-17 06:38:32.320\n",
       "Name: started_at, Length: 5860568, dtype: datetime64[ns]"
      ]
     },
     "execution_count": 6,
     "metadata": {},
     "output_type": "execute_result"
    }
   ],
   "source": [
    "# started_at 修改为时间格式\n",
    "df['started_at'] = pd.to_datetime(df['started_at'],format='mixed')\n",
    "df['started_at']"
   ]
  },
  {
   "cell_type": "code",
   "execution_count": 7,
   "id": "a9dcf2f3-71d8-46a1-9f3c-ca97372e5274",
   "metadata": {},
   "outputs": [
    {
     "data": {
      "text/plain": [
       "0         2024-01-12 15:37:59.000\n",
       "1         2024-01-08 15:52:59.000\n",
       "2         2024-01-27 12:35:19.000\n",
       "3         2024-01-29 16:56:06.000\n",
       "4         2024-01-31 06:09:35.000\n",
       "                    ...          \n",
       "5860563   2024-12-11 08:37:34.532\n",
       "5860564   2024-12-09 12:37:32.712\n",
       "5860565   2024-12-31 17:17:21.838\n",
       "5860566   2024-12-01 14:45:21.268\n",
       "5860567   2024-12-17 06:46:27.167\n",
       "Name: ended_at, Length: 5860568, dtype: datetime64[ns]"
      ]
     },
     "execution_count": 7,
     "metadata": {},
     "output_type": "execute_result"
    }
   ],
   "source": [
    "# ended_at 修改为时间格式\n",
    "df['ended_at'] = pd.to_datetime(df['ended_at'],format='mixed')\n",
    "df['ended_at']"
   ]
  },
  {
   "cell_type": "code",
   "execution_count": 8,
   "id": "46d5e55c-4683-4120-b16c-567d5637bcab",
   "metadata": {},
   "outputs": [
    {
     "data": {
      "text/plain": [
       "ride_id                     0\n",
       "rideable_type               0\n",
       "started_at                  0\n",
       "ended_at                    0\n",
       "start_station_name    1073951\n",
       "start_station_id      1073951\n",
       "end_station_name      1104653\n",
       "end_station_id        1104653\n",
       "start_lat                   0\n",
       "start_lng                   0\n",
       "end_lat                  7232\n",
       "end_lng                  7232\n",
       "member_casual               0\n",
       "dtype: int64"
      ]
     },
     "execution_count": 8,
     "metadata": {},
     "output_type": "execute_result"
    }
   ],
   "source": [
    "# 判断是否存在缺失值\n",
    "df.isnull().sum()"
   ]
  },
  {
   "cell_type": "code",
   "execution_count": 9,
   "id": "e472bcd6-9b90-4724-a3f8-f43af5430700",
   "metadata": {},
   "outputs": [
    {
     "name": "stdout",
     "output_type": "stream",
     "text": [
      "\n",
      "\t\t=== 缺失值详细分布 ===\n",
      "字段名称\t\t缺失数量\t缺失百分比\n",
      "start_station_name  \t 1073951\t   18.33%\n",
      "start_station_id    \t 1073951\t   18.33%\n",
      "end_station_name    \t 1104653\t   18.85%\n",
      "end_station_id      \t 1104653\t   18.85%\n",
      "end_lat             \t    7232\t    0.12%\n",
      "end_lng             \t    7232\t    0.12%\n"
     ]
    }
   ],
   "source": [
    "# 首先，让我们更详细地分析缺失值的分布情况\n",
    "\n",
    "null_summary = df.isnull().sum()\n",
    "null_percentage = (df.isnull().sum() / len(df)) * 100\n",
    "print(f'\\n\\t\\t=== 缺失值详细分布 ===')\n",
    "print('字段名称\\t\\t缺失数量\\t缺失百分比')\n",
    "for column in df.columns:\n",
    "    if null_summary[column] > 0:\n",
    "        print(f\"{column:<20}\\t{null_summary[column]:>8}\\t{null_percentage[column]:>8.2f}%\")\n",
    "        "
   ]
  },
  {
   "cell_type": "markdown",
   "id": "83573009-2b1b-47de-8fb9-2435dd2542d6",
   "metadata": {},
   "source": [
    "| 部分代码                               | 说明                                             |\n",
    "| ---------------------------------- | ---------------------------------------------- |\n",
    "| `f\"...\"`                           | Python 的格式化字符串（f-string），允许在字符串中嵌入变量。          |\n",
    "| `{column:<20}`                     | 将变量 `column` 左对齐，占 20 个字符的宽度。用于打印字段名，统一列宽以便对齐。 |\n",
    "| `\\t`                               | 制表符，控制输出时横向对齐，相当于“横向的空格”。                      |\n",
    "| `{null_summary[column]:>8}`        | 缺失值总数，右对齐，占 8 个字符宽度。数字对齐更美观。                   |\n",
    "| `{null_percentage[column]:>8.2f}%` | 缺失值比例，右对齐，保留两位小数。后面加上 `%` 表示百分比。               |\n"
   ]
  },
  {
   "cell_type": "markdown",
   "id": "b0047a05-7a2e-445a-9afb-c05bdaad2d37",
   "metadata": {},
   "source": [
    "- start_station_name  end_station_name  丢失的情况可能是没有在指定地点停车的情况，或者测试数据\n",
    "- end_lat end_lng  可能是GPS设备出错，或者测试数据"
   ]
  },
  {
   "cell_type": "code",
   "execution_count": 10,
   "id": "af4254ad-c542-4b27-a677-b080e535c200",
   "metadata": {},
   "outputs": [
    {
     "name": "stdout",
     "output_type": "stream",
     "text": [
      "\n",
      "\t===缺失值模式分析===\n",
      "仅起始站点缺失的记录数:        547606\n",
      "仅终点站点缺失的记录数:        578308\n",
      "起始，终点站均缺失的记录数:  526345\n"
     ]
    }
   ],
   "source": [
    "print(f'\\n\\t===缺失值模式分析===')\n",
    "\n",
    "print(f\"仅起始站点缺失的记录数:{df[df['start_station_name'].isnull() & df['end_station_name'].notnull()].shape[0]:>14}\")\n",
    "print(f\"仅终点站点缺失的记录数:{df[df['start_station_name'].notnull() & df['end_station_name'].isnull()].shape[0]:>14}\")\n",
    "print(f\"起始，终点站均缺失的记录数:{df[df['start_station_name'].isnull() & df['end_station_name'].isnull()].shape[0]:>8}\")"
   ]
  },
  {
   "cell_type": "code",
   "execution_count": 11,
   "id": "3f4735d2-870a-49c2-bb60-1a18ed175497",
   "metadata": {},
   "outputs": [
    {
     "name": "stdout",
     "output_type": "stream",
     "text": [
      "丢失终点坐标，存在终点站信息的记录数:0\n"
     ]
    }
   ],
   "source": [
    "# 检查GPS坐标缺失与站点信息的关系\n",
    "print(f\"丢失终点坐标，存在终点站信息的记录数:{df[df['end_station_name'].notnull() & df['end_lat'].isnull()].shape[0]}\")"
   ]
  },
  {
   "cell_type": "code",
   "execution_count": 12,
   "id": "90177edf-9aad-46f4-8d85-0350d3cfb2b3",
   "metadata": {},
   "outputs": [
    {
     "name": "stdout",
     "output_type": "stream",
     "text": [
      "\n",
      "=== 按用户类型分析缺失值 ===\n",
      "起始站信息缺失的用户类型分布:\n",
      "member : 662813 条记录 (61.7%)\n",
      "casual : 411138 条记录 (38.3%)\n"
     ]
    }
   ],
   "source": [
    "# 按用户类型分析缺失值分布\n",
    "print(f\"\\n=== 按用户类型分析缺失值 ===\")\n",
    "station_missing_by_user = df[df['start_station_name'].isnull()]['member_casual'].value_counts()\n",
    "station_missing_by_user\n",
    "print(\"起始站信息缺失的用户类型分布:\")\n",
    "for user_type, count in station_missing_by_user.items():\n",
    "    percentage = (count / df[df['start_station_name'].isnull()].shape[0]) * 100\n",
    "    print(f\"{user_type} : {count} 条记录 ({percentage:.1f}%)\")"
   ]
  },
  {
   "cell_type": "markdown",
   "id": "d26294a6-5198-4b30-a6fd-f87bd3c2373b",
   "metadata": {},
   "source": [
    "### 处理缺失值"
   ]
  },
  {
   "cell_type": "markdown",
   "id": "10f0c0a2-6f12-4d3e-b5b6-c3894efc4881",
   "metadata": {},
   "source": [
    "缺失值详细分布\n",
    "| 字段名称           | 缺失数量 | 缺失百分比 |\n",
    "|--------------------|----------|------------|\n",
    "| start_station_name | 1,073,951 | 18.33%     |\n",
    "| start_station_id   | 1,073,951 | 18.33%     |\n",
    "| end_station_name   | 1,104,653 | 18.85%     |\n",
    "| end_station_id     | 1,104,653 | 18.85%     |"
   ]
  },
  {
   "cell_type": "code",
   "execution_count": 13,
   "id": "825159d0-caa8-4685-9b30-da7392a64f92",
   "metadata": {},
   "outputs": [
    {
     "name": "stdout",
     "output_type": "stream",
     "text": [
      "原始数据量 5860568\n"
     ]
    }
   ],
   "source": [
    "print('原始数据量', len(df))"
   ]
  },
  {
   "cell_type": "code",
   "execution_count": 14,
   "id": "7718cf8c-185f-4861-a212-1f942dfd0b11",
   "metadata": {},
   "outputs": [],
   "source": [
    "# 创建备份进行清洗，确保备份数据源\n",
    "df_clean = df.copy()"
   ]
  },
  {
   "cell_type": "code",
   "execution_count": 15,
   "id": "5c709db2-ae34-4807-9525-65e3193c8cf0",
   "metadata": {},
   "outputs": [
    {
     "name": "stdout",
     "output_type": "stream",
     "text": [
      "删除GPS坐标后的数据量:5853336 (删除了7232条数据)\n"
     ]
    }
   ],
   "source": [
    "# 策略1：删除GPS坐标完全缺失的记录 （都是无法用以分析的记录，且记录量极小）\n",
    "df_clean = df_clean.dropna(subset=['end_lng','end_lat'])\n",
    "print(f'删除GPS坐标后的数据量:{len(df_clean)} (删除了{len(df) - len(df_clean)}条数据)')"
   ]
  },
  {
   "cell_type": "code",
   "execution_count": 16,
   "id": "eafc645a-55a6-4260-8510-03e97ad892d4",
   "metadata": {},
   "outputs": [],
   "source": [
    "# 为缺失站点信息填充标识符\n",
    "df_clean['start_station_name'] = df_clean['start_station_name'].fillna('UNKNOWN_START')\n",
    "df_clean['start_station_id'] = df_clean['start_station_id'].fillna('UNKNOWN_START_ID')\n",
    "df_clean['end_station_name'] = df_clean['end_station_name'].fillna('UNKNOWN_END')\n",
    "df_clean['end_station_id'] = df_clean['end_station_id'].fillna('UNKNOWN_END_ID')"
   ]
  },
  {
   "cell_type": "code",
   "execution_count": 17,
   "id": "8aedc73c-d7f5-4013-9e39-b552d6e97812",
   "metadata": {},
   "outputs": [
    {
     "name": "stdout",
     "output_type": "stream",
     "text": [
      "最终清洗后剩余数据量: 5853336\n",
      "数据保留率: 99.88% \n"
     ]
    }
   ],
   "source": [
    "print(f\"最终清洗后剩余数据量: {len(df_clean)}\")\n",
    "print(f\"数据保留率: {(len(df_clean) / len(df)) * 100:.2f}% \")"
   ]
  },
  {
   "cell_type": "code",
   "execution_count": 18,
   "id": "102732aa-57c0-46db-8d2e-4c0469d550c1",
   "metadata": {},
   "outputs": [
    {
     "name": "stdout",
     "output_type": "stream",
     "text": [
      "清洗结果验证\n",
      "\n",
      "字段名称\tNull值和\n",
      "ride_id               0\n",
      "rideable_type         0\n",
      "started_at            0\n",
      "ended_at              0\n",
      "start_station_name    0\n",
      "start_station_id      0\n",
      "end_station_name      0\n",
      "end_station_id        0\n",
      "start_lat             0\n",
      "start_lng             0\n",
      "end_lat               0\n",
      "end_lng               0\n",
      "member_casual         0\n",
      "dtype: int64\n"
     ]
    }
   ],
   "source": [
    "print(f'清洗结果验证\\n')\n",
    "print(f\"字段名称\\tNull值和\")\n",
    "print(df_clean.isnull().sum())"
   ]
  },
  {
   "cell_type": "markdown",
   "id": "56be2c1a-2796-48f0-893c-c7785f583920",
   "metadata": {},
   "source": [
    "## 评估数据"
   ]
  },
  {
   "cell_type": "markdown",
   "id": "d961e595-897d-48f9-8188-b0f897094d64",
   "metadata": {},
   "source": [
    "### 评估数据整齐度"
   ]
  },
  {
   "cell_type": "code",
   "execution_count": 19,
   "id": "806c45c3-4679-47e7-a8a6-b95d8fc74367",
   "metadata": {},
   "outputs": [
    {
     "data": {
      "text/html": [
       "<div>\n",
       "<style scoped>\n",
       "    .dataframe tbody tr th:only-of-type {\n",
       "        vertical-align: middle;\n",
       "    }\n",
       "\n",
       "    .dataframe tbody tr th {\n",
       "        vertical-align: top;\n",
       "    }\n",
       "\n",
       "    .dataframe thead th {\n",
       "        text-align: right;\n",
       "    }\n",
       "</style>\n",
       "<table border=\"1\" class=\"dataframe\">\n",
       "  <thead>\n",
       "    <tr style=\"text-align: right;\">\n",
       "      <th></th>\n",
       "      <th>ride_id</th>\n",
       "      <th>rideable_type</th>\n",
       "      <th>started_at</th>\n",
       "      <th>ended_at</th>\n",
       "      <th>start_station_name</th>\n",
       "      <th>start_station_id</th>\n",
       "      <th>end_station_name</th>\n",
       "      <th>end_station_id</th>\n",
       "      <th>start_lat</th>\n",
       "      <th>start_lng</th>\n",
       "      <th>end_lat</th>\n",
       "      <th>end_lng</th>\n",
       "      <th>member_casual</th>\n",
       "    </tr>\n",
       "  </thead>\n",
       "  <tbody>\n",
       "    <tr>\n",
       "      <th>4052930</th>\n",
       "      <td>8C1F923E85668F87</td>\n",
       "      <td>electric_bike</td>\n",
       "      <td>2024-09-30 14:13:56.188</td>\n",
       "      <td>2024-09-30 14:55:56.199</td>\n",
       "      <td>Wells St &amp; Concord Ln</td>\n",
       "      <td>TA1308000050</td>\n",
       "      <td>UNKNOWN_END</td>\n",
       "      <td>UNKNOWN_END_ID</td>\n",
       "      <td>41.912133</td>\n",
       "      <td>-87.634656</td>\n",
       "      <td>41.930000</td>\n",
       "      <td>-87.630000</td>\n",
       "      <td>casual</td>\n",
       "    </tr>\n",
       "    <tr>\n",
       "      <th>2597518</th>\n",
       "      <td>8B45AB0AFE9C8157</td>\n",
       "      <td>electric_bike</td>\n",
       "      <td>2024-07-29 22:50:26.933</td>\n",
       "      <td>2024-07-29 22:55:31.506</td>\n",
       "      <td>Clark St &amp; Newport St</td>\n",
       "      <td>632</td>\n",
       "      <td>Clark St &amp; Wrightwood Ave</td>\n",
       "      <td>TA1305000014</td>\n",
       "      <td>41.944540</td>\n",
       "      <td>-87.654678</td>\n",
       "      <td>41.929546</td>\n",
       "      <td>-87.643118</td>\n",
       "      <td>casual</td>\n",
       "    </tr>\n",
       "    <tr>\n",
       "      <th>5699712</th>\n",
       "      <td>481B401F84FAA246</td>\n",
       "      <td>classic_bike</td>\n",
       "      <td>2024-12-11 07:55:12.440</td>\n",
       "      <td>2024-12-11 07:59:00.238</td>\n",
       "      <td>Damen Ave &amp; Sunnyside Ave</td>\n",
       "      <td>TA1309000012</td>\n",
       "      <td>Ravenswood Ave &amp; Lawrence Ave</td>\n",
       "      <td>TA1309000066</td>\n",
       "      <td>41.963250</td>\n",
       "      <td>-87.679258</td>\n",
       "      <td>41.968445</td>\n",
       "      <td>-87.674226</td>\n",
       "      <td>member</td>\n",
       "    </tr>\n",
       "    <tr>\n",
       "      <th>4134103</th>\n",
       "      <td>72AA76EDBB8454E3</td>\n",
       "      <td>classic_bike</td>\n",
       "      <td>2024-09-09 16:27:07.365</td>\n",
       "      <td>2024-09-09 16:57:23.357</td>\n",
       "      <td>Wentworth Ave &amp; 24th St</td>\n",
       "      <td>TA1308000026</td>\n",
       "      <td>Indiana Ave &amp; 31st St</td>\n",
       "      <td>TA1308000036</td>\n",
       "      <td>41.850084</td>\n",
       "      <td>-87.632141</td>\n",
       "      <td>41.838842</td>\n",
       "      <td>-87.621857</td>\n",
       "      <td>member</td>\n",
       "    </tr>\n",
       "    <tr>\n",
       "      <th>458081</th>\n",
       "      <td>9A6F215619E953BC</td>\n",
       "      <td>electric_bike</td>\n",
       "      <td>2024-03-25 10:05:32.000</td>\n",
       "      <td>2024-03-25 10:20:43.000</td>\n",
       "      <td>Wabash Ave &amp; 9th St</td>\n",
       "      <td>TA1309000010</td>\n",
       "      <td>Clark St &amp; Schiller St</td>\n",
       "      <td>TA1309000024</td>\n",
       "      <td>41.870671</td>\n",
       "      <td>-87.625731</td>\n",
       "      <td>41.907993</td>\n",
       "      <td>-87.631501</td>\n",
       "      <td>member</td>\n",
       "    </tr>\n",
       "    <tr>\n",
       "      <th>457462</th>\n",
       "      <td>7BD07EDBBEA20569</td>\n",
       "      <td>electric_bike</td>\n",
       "      <td>2024-03-30 14:15:20.000</td>\n",
       "      <td>2024-03-30 14:28:21.000</td>\n",
       "      <td>Paulina Ave &amp; North Ave</td>\n",
       "      <td>TA1305000037</td>\n",
       "      <td>Clinton St &amp; Lake St</td>\n",
       "      <td>13021</td>\n",
       "      <td>41.910366</td>\n",
       "      <td>-87.670048</td>\n",
       "      <td>41.885637</td>\n",
       "      <td>-87.641823</td>\n",
       "      <td>member</td>\n",
       "    </tr>\n",
       "    <tr>\n",
       "      <th>1640838</th>\n",
       "      <td>2C82E6995DBDBFCB</td>\n",
       "      <td>electric_bike</td>\n",
       "      <td>2024-05-10 19:24:18.000</td>\n",
       "      <td>2024-05-10 19:30:43.000</td>\n",
       "      <td>UNKNOWN_START</td>\n",
       "      <td>UNKNOWN_START_ID</td>\n",
       "      <td>Green St &amp; Washington Blvd</td>\n",
       "      <td>13053</td>\n",
       "      <td>41.890000</td>\n",
       "      <td>-87.640000</td>\n",
       "      <td>41.883181</td>\n",
       "      <td>-87.648725</td>\n",
       "      <td>casual</td>\n",
       "    </tr>\n",
       "    <tr>\n",
       "      <th>5392587</th>\n",
       "      <td>239FE48CEC289D2C</td>\n",
       "      <td>classic_bike</td>\n",
       "      <td>2024-11-15 11:48:25.061</td>\n",
       "      <td>2024-11-15 11:58:01.352</td>\n",
       "      <td>Wabash Ave &amp; Grand Ave</td>\n",
       "      <td>TA1307000117</td>\n",
       "      <td>Mies van der Rohe Way &amp; Chestnut St</td>\n",
       "      <td>15529</td>\n",
       "      <td>41.891466</td>\n",
       "      <td>-87.626761</td>\n",
       "      <td>41.898587</td>\n",
       "      <td>-87.621915</td>\n",
       "      <td>casual</td>\n",
       "    </tr>\n",
       "    <tr>\n",
       "      <th>680822</th>\n",
       "      <td>EE2BFC88CE7C478A</td>\n",
       "      <td>classic_bike</td>\n",
       "      <td>2024-04-22 09:52:38.000</td>\n",
       "      <td>2024-04-22 10:19:58.000</td>\n",
       "      <td>Clark St &amp; Bryn Mawr Ave</td>\n",
       "      <td>KA1504000151</td>\n",
       "      <td>Manor Ave &amp; Leland Ave</td>\n",
       "      <td>KA1504000127</td>\n",
       "      <td>41.983593</td>\n",
       "      <td>-87.669154</td>\n",
       "      <td>41.965875</td>\n",
       "      <td>-87.700825</td>\n",
       "      <td>casual</td>\n",
       "    </tr>\n",
       "    <tr>\n",
       "      <th>5161040</th>\n",
       "      <td>4DD8CDE9D98E8C2C</td>\n",
       "      <td>classic_bike</td>\n",
       "      <td>2024-10-11 07:03:57.722</td>\n",
       "      <td>2024-10-11 07:12:17.145</td>\n",
       "      <td>Artesian Ave &amp; Hubbard St</td>\n",
       "      <td>15664</td>\n",
       "      <td>Ashland Ave &amp; Grand Ave</td>\n",
       "      <td>13434</td>\n",
       "      <td>41.889500</td>\n",
       "      <td>-87.688257</td>\n",
       "      <td>41.891072</td>\n",
       "      <td>-87.666611</td>\n",
       "      <td>member</td>\n",
       "    </tr>\n",
       "  </tbody>\n",
       "</table>\n",
       "</div>"
      ],
      "text/plain": [
       "                  ride_id  rideable_type              started_at  \\\n",
       "4052930  8C1F923E85668F87  electric_bike 2024-09-30 14:13:56.188   \n",
       "2597518  8B45AB0AFE9C8157  electric_bike 2024-07-29 22:50:26.933   \n",
       "5699712  481B401F84FAA246   classic_bike 2024-12-11 07:55:12.440   \n",
       "4134103  72AA76EDBB8454E3   classic_bike 2024-09-09 16:27:07.365   \n",
       "458081   9A6F215619E953BC  electric_bike 2024-03-25 10:05:32.000   \n",
       "457462   7BD07EDBBEA20569  electric_bike 2024-03-30 14:15:20.000   \n",
       "1640838  2C82E6995DBDBFCB  electric_bike 2024-05-10 19:24:18.000   \n",
       "5392587  239FE48CEC289D2C   classic_bike 2024-11-15 11:48:25.061   \n",
       "680822   EE2BFC88CE7C478A   classic_bike 2024-04-22 09:52:38.000   \n",
       "5161040  4DD8CDE9D98E8C2C   classic_bike 2024-10-11 07:03:57.722   \n",
       "\n",
       "                       ended_at         start_station_name  start_station_id  \\\n",
       "4052930 2024-09-30 14:55:56.199      Wells St & Concord Ln      TA1308000050   \n",
       "2597518 2024-07-29 22:55:31.506      Clark St & Newport St               632   \n",
       "5699712 2024-12-11 07:59:00.238  Damen Ave & Sunnyside Ave      TA1309000012   \n",
       "4134103 2024-09-09 16:57:23.357    Wentworth Ave & 24th St      TA1308000026   \n",
       "458081  2024-03-25 10:20:43.000        Wabash Ave & 9th St      TA1309000010   \n",
       "457462  2024-03-30 14:28:21.000    Paulina Ave & North Ave      TA1305000037   \n",
       "1640838 2024-05-10 19:30:43.000              UNKNOWN_START  UNKNOWN_START_ID   \n",
       "5392587 2024-11-15 11:58:01.352     Wabash Ave & Grand Ave      TA1307000117   \n",
       "680822  2024-04-22 10:19:58.000   Clark St & Bryn Mawr Ave      KA1504000151   \n",
       "5161040 2024-10-11 07:12:17.145  Artesian Ave & Hubbard St             15664   \n",
       "\n",
       "                            end_station_name  end_station_id  start_lat  \\\n",
       "4052930                          UNKNOWN_END  UNKNOWN_END_ID  41.912133   \n",
       "2597518            Clark St & Wrightwood Ave    TA1305000014  41.944540   \n",
       "5699712        Ravenswood Ave & Lawrence Ave    TA1309000066  41.963250   \n",
       "4134103                Indiana Ave & 31st St    TA1308000036  41.850084   \n",
       "458081                Clark St & Schiller St    TA1309000024  41.870671   \n",
       "457462                  Clinton St & Lake St           13021  41.910366   \n",
       "1640838           Green St & Washington Blvd           13053  41.890000   \n",
       "5392587  Mies van der Rohe Way & Chestnut St           15529  41.891466   \n",
       "680822                Manor Ave & Leland Ave    KA1504000127  41.983593   \n",
       "5161040              Ashland Ave & Grand Ave           13434  41.889500   \n",
       "\n",
       "         start_lng    end_lat    end_lng member_casual  \n",
       "4052930 -87.634656  41.930000 -87.630000        casual  \n",
       "2597518 -87.654678  41.929546 -87.643118        casual  \n",
       "5699712 -87.679258  41.968445 -87.674226        member  \n",
       "4134103 -87.632141  41.838842 -87.621857        member  \n",
       "458081  -87.625731  41.907993 -87.631501        member  \n",
       "457462  -87.670048  41.885637 -87.641823        member  \n",
       "1640838 -87.640000  41.883181 -87.648725        casual  \n",
       "5392587 -87.626761  41.898587 -87.621915        casual  \n",
       "680822  -87.669154  41.965875 -87.700825        casual  \n",
       "5161040 -87.688257  41.891072 -87.666611        member  "
      ]
     },
     "execution_count": 19,
     "metadata": {},
     "output_type": "execute_result"
    }
   ],
   "source": [
    "df_clean.sample(10)"
   ]
  },
  {
   "cell_type": "markdown",
   "id": "5aff5709-52fd-4999-8b39-f89d6dbc69b5",
   "metadata": {},
   "source": [
    "根据随机抽取的10行数据中\n",
    "- 每列一个变量\n",
    "- 每行一个观察值\n",
    "- 每个单元格一个值\n",
    "- 每行都是一位骑行者用户的骑行记录\n",
    "    - 无结构问题"
   ]
  },
  {
   "cell_type": "markdown",
   "id": "daf5325c-6fe7-46b1-ad78-d5c007e2e1cd",
   "metadata": {},
   "source": [
    "### 评估数据干净度"
   ]
  },
  {
   "cell_type": "code",
   "execution_count": 20,
   "id": "c77faea1-359e-4a96-8b89-597d32ac6dbf",
   "metadata": {},
   "outputs": [
    {
     "name": "stdout",
     "output_type": "stream",
     "text": [
      "<class 'pandas.core.frame.DataFrame'>\n",
      "Index: 5853336 entries, 0 to 5860567\n",
      "Data columns (total 13 columns):\n",
      " #   Column              Dtype         \n",
      "---  ------              -----         \n",
      " 0   ride_id             object        \n",
      " 1   rideable_type       object        \n",
      " 2   started_at          datetime64[ns]\n",
      " 3   ended_at            datetime64[ns]\n",
      " 4   start_station_name  object        \n",
      " 5   start_station_id    object        \n",
      " 6   end_station_name    object        \n",
      " 7   end_station_id      object        \n",
      " 8   start_lat           float64       \n",
      " 9   start_lng           float64       \n",
      " 10  end_lat             float64       \n",
      " 11  end_lng             float64       \n",
      " 12  member_casual       object        \n",
      "dtypes: datetime64[ns](2), float64(4), object(7)\n",
      "memory usage: 625.2+ MB\n"
     ]
    },
    {
     "data": {
      "text/plain": [
       "ride_id               0\n",
       "rideable_type         0\n",
       "started_at            0\n",
       "ended_at              0\n",
       "start_station_name    0\n",
       "start_station_id      0\n",
       "end_station_name      0\n",
       "end_station_id        0\n",
       "start_lat             0\n",
       "start_lng             0\n",
       "end_lat               0\n",
       "end_lng               0\n",
       "member_casual         0\n",
       "dtype: int64"
      ]
     },
     "execution_count": 20,
     "metadata": {},
     "output_type": "execute_result"
    }
   ],
   "source": [
    "df_clean.info()\n",
    "df_clean.isnull().sum()"
   ]
  },
  {
   "cell_type": "markdown",
   "id": "e280f5fb-feb5-424d-a4eb-2993cb4ae0d9",
   "metadata": {},
   "source": [
    "无NULL值，数据类型符合逻辑"
   ]
  },
  {
   "cell_type": "code",
   "execution_count": 21,
   "id": "fb6af378-8852-4932-bdae-579d6a32924d",
   "metadata": {},
   "outputs": [
    {
     "data": {
      "text/html": [
       "<div>\n",
       "<style scoped>\n",
       "    .dataframe tbody tr th:only-of-type {\n",
       "        vertical-align: middle;\n",
       "    }\n",
       "\n",
       "    .dataframe tbody tr th {\n",
       "        vertical-align: top;\n",
       "    }\n",
       "\n",
       "    .dataframe thead th {\n",
       "        text-align: right;\n",
       "    }\n",
       "</style>\n",
       "<table border=\"1\" class=\"dataframe\">\n",
       "  <thead>\n",
       "    <tr style=\"text-align: right;\">\n",
       "      <th></th>\n",
       "      <th>ride_id</th>\n",
       "      <th>rideable_type</th>\n",
       "      <th>started_at</th>\n",
       "      <th>ended_at</th>\n",
       "      <th>start_station_name</th>\n",
       "      <th>start_station_id</th>\n",
       "      <th>end_station_name</th>\n",
       "      <th>end_station_id</th>\n",
       "      <th>start_lat</th>\n",
       "      <th>start_lng</th>\n",
       "      <th>end_lat</th>\n",
       "      <th>end_lng</th>\n",
       "      <th>member_casual</th>\n",
       "    </tr>\n",
       "  </thead>\n",
       "  <tbody>\n",
       "    <tr>\n",
       "      <th>4116657</th>\n",
       "      <td>8BF8289100222603</td>\n",
       "      <td>electric_scooter</td>\n",
       "      <td>2024-09-06 10:38:05.775</td>\n",
       "      <td>2024-09-06 10:47:22.685</td>\n",
       "      <td>Wells St &amp; Concord Ln</td>\n",
       "      <td>TA1308000050</td>\n",
       "      <td>Broadway &amp; Barry Ave</td>\n",
       "      <td>13137</td>\n",
       "      <td>41.912133</td>\n",
       "      <td>-87.634656</td>\n",
       "      <td>41.937582</td>\n",
       "      <td>-87.644098</td>\n",
       "      <td>member</td>\n",
       "    </tr>\n",
       "    <tr>\n",
       "      <th>3223311</th>\n",
       "      <td>C031C184F7479861</td>\n",
       "      <td>classic_bike</td>\n",
       "      <td>2024-08-27 06:48:16.451</td>\n",
       "      <td>2024-08-27 06:55:38.105</td>\n",
       "      <td>Ashland Ave &amp; Wrightwood Ave</td>\n",
       "      <td>13296</td>\n",
       "      <td>Sheffield Ave &amp; Fullerton Ave</td>\n",
       "      <td>TA1306000016</td>\n",
       "      <td>41.928830</td>\n",
       "      <td>-87.668507</td>\n",
       "      <td>41.925602</td>\n",
       "      <td>-87.653708</td>\n",
       "      <td>casual</td>\n",
       "    </tr>\n",
       "    <tr>\n",
       "      <th>4961957</th>\n",
       "      <td>218D4439C47A8544</td>\n",
       "      <td>classic_bike</td>\n",
       "      <td>2024-10-26 16:14:34.430</td>\n",
       "      <td>2024-10-26 17:01:32.320</td>\n",
       "      <td>Leavitt St &amp; Armitage Ave</td>\n",
       "      <td>TA1309000029</td>\n",
       "      <td>Milwaukee Ave &amp; Wabansia Ave</td>\n",
       "      <td>13243</td>\n",
       "      <td>41.917805</td>\n",
       "      <td>-87.682437</td>\n",
       "      <td>41.912616</td>\n",
       "      <td>-87.681391</td>\n",
       "      <td>member</td>\n",
       "    </tr>\n",
       "    <tr>\n",
       "      <th>5254025</th>\n",
       "      <td>D093E0AE6EB09A97</td>\n",
       "      <td>electric_bike</td>\n",
       "      <td>2024-10-07 23:39:22.314</td>\n",
       "      <td>2024-10-07 23:59:13.359</td>\n",
       "      <td>Broadway &amp; Barry Ave</td>\n",
       "      <td>13137</td>\n",
       "      <td>UNKNOWN_END</td>\n",
       "      <td>UNKNOWN_END_ID</td>\n",
       "      <td>41.937582</td>\n",
       "      <td>-87.644098</td>\n",
       "      <td>41.990000</td>\n",
       "      <td>-87.660000</td>\n",
       "      <td>member</td>\n",
       "    </tr>\n",
       "    <tr>\n",
       "      <th>2809327</th>\n",
       "      <td>0DD0E0D71FB83FAD</td>\n",
       "      <td>classic_bike</td>\n",
       "      <td>2024-07-19 10:41:59.834</td>\n",
       "      <td>2024-07-19 12:01:45.733</td>\n",
       "      <td>Fairbanks Ct &amp; Grand Ave</td>\n",
       "      <td>TA1305000003</td>\n",
       "      <td>DuSable Lake Shore Dr &amp; Wellington Ave</td>\n",
       "      <td>TA1307000041</td>\n",
       "      <td>41.891847</td>\n",
       "      <td>-87.620580</td>\n",
       "      <td>41.936688</td>\n",
       "      <td>-87.636829</td>\n",
       "      <td>casual</td>\n",
       "    </tr>\n",
       "    <tr>\n",
       "      <th>3716681</th>\n",
       "      <td>648D69BF7099C843</td>\n",
       "      <td>electric_bike</td>\n",
       "      <td>2024-08-29 12:45:37.367</td>\n",
       "      <td>2024-08-29 12:53:24.830</td>\n",
       "      <td>Clark St &amp; Elm St</td>\n",
       "      <td>TA1307000039</td>\n",
       "      <td>Mies van der Rohe Way &amp; Chicago Ave</td>\n",
       "      <td>13338</td>\n",
       "      <td>41.901976</td>\n",
       "      <td>-87.631209</td>\n",
       "      <td>41.896945</td>\n",
       "      <td>-87.621758</td>\n",
       "      <td>member</td>\n",
       "    </tr>\n",
       "    <tr>\n",
       "      <th>2943199</th>\n",
       "      <td>673BB7CC1A155D08</td>\n",
       "      <td>classic_bike</td>\n",
       "      <td>2024-07-18 18:21:23.816</td>\n",
       "      <td>2024-07-18 18:26:33.535</td>\n",
       "      <td>Michigan Ave &amp; 18th St</td>\n",
       "      <td>13150</td>\n",
       "      <td>Clinton St &amp; 18th St</td>\n",
       "      <td>TA1307000044</td>\n",
       "      <td>41.857926</td>\n",
       "      <td>-87.624336</td>\n",
       "      <td>41.857950</td>\n",
       "      <td>-87.640826</td>\n",
       "      <td>member</td>\n",
       "    </tr>\n",
       "    <tr>\n",
       "      <th>1965105</th>\n",
       "      <td>D652F0B99EE82EA2</td>\n",
       "      <td>electric_bike</td>\n",
       "      <td>2024-06-03 21:30:41.928</td>\n",
       "      <td>2024-06-03 21:36:46.363</td>\n",
       "      <td>Dearborn Pkwy &amp; Delaware Pl</td>\n",
       "      <td>TA1307000128</td>\n",
       "      <td>Kingsbury St &amp; Erie St</td>\n",
       "      <td>13265</td>\n",
       "      <td>41.898987</td>\n",
       "      <td>-87.629907</td>\n",
       "      <td>41.893808</td>\n",
       "      <td>-87.641697</td>\n",
       "      <td>member</td>\n",
       "    </tr>\n",
       "    <tr>\n",
       "      <th>1436018</th>\n",
       "      <td>292478C0A4B87379</td>\n",
       "      <td>electric_bike</td>\n",
       "      <td>2024-05-31 11:47:02.000</td>\n",
       "      <td>2024-05-31 11:57:25.000</td>\n",
       "      <td>Canal St &amp; Monroe St</td>\n",
       "      <td>13056</td>\n",
       "      <td>Michigan Ave &amp; Lake St</td>\n",
       "      <td>TA1305000011</td>\n",
       "      <td>41.881785</td>\n",
       "      <td>-87.639639</td>\n",
       "      <td>41.886022</td>\n",
       "      <td>-87.624398</td>\n",
       "      <td>member</td>\n",
       "    </tr>\n",
       "    <tr>\n",
       "      <th>5119244</th>\n",
       "      <td>3443C5D1B66947D4</td>\n",
       "      <td>classic_bike</td>\n",
       "      <td>2024-10-24 23:12:04.329</td>\n",
       "      <td>2024-10-24 23:18:03.370</td>\n",
       "      <td>Ashland Ave &amp; Wellington Ave</td>\n",
       "      <td>13269</td>\n",
       "      <td>Sheffield Ave &amp; Wrightwood Ave</td>\n",
       "      <td>TA1309000023</td>\n",
       "      <td>41.936083</td>\n",
       "      <td>-87.669807</td>\n",
       "      <td>41.928712</td>\n",
       "      <td>-87.653833</td>\n",
       "      <td>member</td>\n",
       "    </tr>\n",
       "  </tbody>\n",
       "</table>\n",
       "</div>"
      ],
      "text/plain": [
       "                  ride_id     rideable_type              started_at  \\\n",
       "4116657  8BF8289100222603  electric_scooter 2024-09-06 10:38:05.775   \n",
       "3223311  C031C184F7479861      classic_bike 2024-08-27 06:48:16.451   \n",
       "4961957  218D4439C47A8544      classic_bike 2024-10-26 16:14:34.430   \n",
       "5254025  D093E0AE6EB09A97     electric_bike 2024-10-07 23:39:22.314   \n",
       "2809327  0DD0E0D71FB83FAD      classic_bike 2024-07-19 10:41:59.834   \n",
       "3716681  648D69BF7099C843     electric_bike 2024-08-29 12:45:37.367   \n",
       "2943199  673BB7CC1A155D08      classic_bike 2024-07-18 18:21:23.816   \n",
       "1965105  D652F0B99EE82EA2     electric_bike 2024-06-03 21:30:41.928   \n",
       "1436018  292478C0A4B87379     electric_bike 2024-05-31 11:47:02.000   \n",
       "5119244  3443C5D1B66947D4      classic_bike 2024-10-24 23:12:04.329   \n",
       "\n",
       "                       ended_at            start_station_name  \\\n",
       "4116657 2024-09-06 10:47:22.685         Wells St & Concord Ln   \n",
       "3223311 2024-08-27 06:55:38.105  Ashland Ave & Wrightwood Ave   \n",
       "4961957 2024-10-26 17:01:32.320     Leavitt St & Armitage Ave   \n",
       "5254025 2024-10-07 23:59:13.359          Broadway & Barry Ave   \n",
       "2809327 2024-07-19 12:01:45.733      Fairbanks Ct & Grand Ave   \n",
       "3716681 2024-08-29 12:53:24.830             Clark St & Elm St   \n",
       "2943199 2024-07-18 18:26:33.535        Michigan Ave & 18th St   \n",
       "1965105 2024-06-03 21:36:46.363   Dearborn Pkwy & Delaware Pl   \n",
       "1436018 2024-05-31 11:57:25.000          Canal St & Monroe St   \n",
       "5119244 2024-10-24 23:18:03.370  Ashland Ave & Wellington Ave   \n",
       "\n",
       "        start_station_id                        end_station_name  \\\n",
       "4116657     TA1308000050                    Broadway & Barry Ave   \n",
       "3223311            13296           Sheffield Ave & Fullerton Ave   \n",
       "4961957     TA1309000029            Milwaukee Ave & Wabansia Ave   \n",
       "5254025            13137                             UNKNOWN_END   \n",
       "2809327     TA1305000003  DuSable Lake Shore Dr & Wellington Ave   \n",
       "3716681     TA1307000039     Mies van der Rohe Way & Chicago Ave   \n",
       "2943199            13150                    Clinton St & 18th St   \n",
       "1965105     TA1307000128                  Kingsbury St & Erie St   \n",
       "1436018            13056                  Michigan Ave & Lake St   \n",
       "5119244            13269          Sheffield Ave & Wrightwood Ave   \n",
       "\n",
       "         end_station_id  start_lat  start_lng    end_lat    end_lng  \\\n",
       "4116657           13137  41.912133 -87.634656  41.937582 -87.644098   \n",
       "3223311    TA1306000016  41.928830 -87.668507  41.925602 -87.653708   \n",
       "4961957           13243  41.917805 -87.682437  41.912616 -87.681391   \n",
       "5254025  UNKNOWN_END_ID  41.937582 -87.644098  41.990000 -87.660000   \n",
       "2809327    TA1307000041  41.891847 -87.620580  41.936688 -87.636829   \n",
       "3716681           13338  41.901976 -87.631209  41.896945 -87.621758   \n",
       "2943199    TA1307000044  41.857926 -87.624336  41.857950 -87.640826   \n",
       "1965105           13265  41.898987 -87.629907  41.893808 -87.641697   \n",
       "1436018    TA1305000011  41.881785 -87.639639  41.886022 -87.624398   \n",
       "5119244    TA1309000023  41.936083 -87.669807  41.928712 -87.653833   \n",
       "\n",
       "        member_casual  \n",
       "4116657        member  \n",
       "3223311        casual  \n",
       "4961957        member  \n",
       "5254025        member  \n",
       "2809327        casual  \n",
       "3716681        member  \n",
       "2943199        member  \n",
       "1965105        member  \n",
       "1436018        member  \n",
       "5119244        member  "
      ]
     },
     "execution_count": 21,
     "metadata": {},
     "output_type": "execute_result"
    }
   ],
   "source": [
    "df_clean.sample(10)"
   ]
  },
  {
   "cell_type": "code",
   "execution_count": 22,
   "id": "46908d85-472d-47b0-8941-70deeb89fac1",
   "metadata": {},
   "outputs": [
    {
     "data": {
      "text/plain": [
       "rideable_type\n",
       "electric_bike       2980595\n",
       "classic_bike        2728404\n",
       "electric_scooter     144337\n",
       "Name: count, dtype: int64"
      ]
     },
     "execution_count": 22,
     "metadata": {},
     "output_type": "execute_result"
    }
   ],
   "source": [
    "# 观察属性 rideable_type 所有值\n",
    "df_clean['rideable_type'].value_counts()"
   ]
  },
  {
   "cell_type": "code",
   "execution_count": 23,
   "id": "01e6108d-d959-46f8-80df-2a4f52f8563a",
   "metadata": {},
   "outputs": [
    {
     "data": {
      "text/plain": [
       "start_station_name\n",
       "UNKNOWN_START                                 1073951\n",
       "Streeter Dr & Grand Ave                         65871\n",
       "DuSable Lake Shore Dr & Monroe St               43824\n",
       "Kingsbury St & Kinzie St                        39637\n",
       "DuSable Lake Shore Dr & North Blvd              39558\n",
       "                                               ...   \n",
       "Public Rack - Kostner & 83rd                        1\n",
       "Public Rack - Lowe Ave & 119th St                   1\n",
       "Public Rack - Park Manor Elementary School          1\n",
       "Parnell Ave & 127th St                              1\n",
       "Laflin St & 115th St                                1\n",
       "Name: count, Length: 1809, dtype: int64"
      ]
     },
     "execution_count": 23,
     "metadata": {},
     "output_type": "execute_result"
    }
   ],
   "source": [
    "# 观察属性 start_station_name\n",
    "df_clean['start_station_name'].value_counts()"
   ]
  },
  {
   "cell_type": "code",
   "execution_count": 24,
   "id": "494e65d0-8058-4924-9749-a8150ac56eae",
   "metadata": {},
   "outputs": [
    {
     "data": {
      "text/plain": [
       "start_station_id\n",
       "UNKNOWN_START_ID    1073951\n",
       "13022                 65871\n",
       "13300                 43824\n",
       "KA1503000043          39637\n",
       "LF-005                39558\n",
       "                     ...   \n",
       "BIKE FLEET                1\n",
       "895                       1\n",
       "926                       1\n",
       "24467                     1\n",
       "24431                     1\n",
       "Name: count, Length: 1764, dtype: int64"
      ]
     },
     "execution_count": 24,
     "metadata": {},
     "output_type": "execute_result"
    }
   ],
   "source": [
    "# 观察属性 start_station_id\n",
    "df_clean['start_station_id'].value_counts()"
   ]
  },
  {
   "cell_type": "code",
   "execution_count": 25,
   "id": "e776e2d4-13dd-4603-914a-61091e326e84",
   "metadata": {},
   "outputs": [
    {
     "data": {
      "text/plain": [
       "end_station_name\n",
       "UNKNOWN_END                                        1097421\n",
       "Streeter Dr & Grand Ave                              67216\n",
       "DuSable Lake Shore Dr & North Blvd                   43084\n",
       "DuSable Lake Shore Dr & Monroe St                    42780\n",
       "Michigan Ave & Oak St                                39566\n",
       "                                                    ...   \n",
       "Public Rack - Peoria St & 60th St                        1\n",
       "Public Rack - Damen Ave & 80th St                        1\n",
       "Public Rack - Loomis Blvd & 83rd St                      1\n",
       "Public Rack - Bishop St & 81st St                        1\n",
       "Public Rack - William Rainey Harper High School          1\n",
       "Name: count, Length: 1816, dtype: int64"
      ]
     },
     "execution_count": 25,
     "metadata": {},
     "output_type": "execute_result"
    }
   ],
   "source": [
    "# 观察属性 end_station_name\n",
    "df_clean['end_station_name'].value_counts()"
   ]
  },
  {
   "cell_type": "code",
   "execution_count": 26,
   "id": "0f033eb2-d9ef-41f6-9599-a30c84182f5b",
   "metadata": {},
   "outputs": [
    {
     "data": {
      "text/plain": [
       "member_casual\n",
       "member    3707559\n",
       "casual    2145777\n",
       "Name: count, dtype: int64"
      ]
     },
     "execution_count": 26,
     "metadata": {},
     "output_type": "execute_result"
    }
   ],
   "source": [
    "# 观察属性 member_casual\n",
    "df_clean['member_casual'].value_counts()"
   ]
  },
  {
   "cell_type": "markdown",
   "id": "746c9f1c-4a7f-4442-86d0-f36d3bd136d9",
   "metadata": {},
   "source": [
    "### 评估缺失值 （无缺失值）"
   ]
  },
  {
   "cell_type": "markdown",
   "id": "a1dff0a7-6340-4e80-bdf1-6c2bcc0a9d59",
   "metadata": {},
   "source": [
    "### 评估重复数据 (重复数据不会产生逻辑问题)"
   ]
  },
  {
   "cell_type": "markdown",
   "id": "2804cf9c-679d-48e5-92e5-e0acb0ce5755",
   "metadata": {},
   "source": [
    "### 评估不一致数据（暂无发现）"
   ]
  },
  {
   "cell_type": "markdown",
   "id": "372c1bb4-994e-47fe-9b81-f6236e80f1e4",
   "metadata": {},
   "source": [
    "### 评估无效或错误数据（暂无发现）"
   ]
  },
  {
   "cell_type": "markdown",
   "id": "ff4ba27f-0b81-479d-a6c1-0f309a20e99e",
   "metadata": {},
   "source": [
    "# 分析阶段"
   ]
  },
  {
   "cell_type": "markdown",
   "id": "c49383a5-8af8-4c08-bcca-348780507311",
   "metadata": {},
   "source": [
    "问题1：年度会员和临时骑手的使用差异\n",
    "- 分析思路：\n",
    "\n",
    "1 使用频率对比:\n",
    "\n",
    "计算两类用户的骑行次数分布\n",
    "分析骑行时长差异（ended_at - started_at）\n",
    "\n",
    "\n",
    "2 使用时间模式:\n",
    "\n",
    "分析一周内的使用模式（周工作日vs周末）\n",
    "分析一天内的使用模式（上下班高峰vs其他时间）\n",
    "\n",
    "\n",
    "3 骑行距离和路线偏好: (未完成)\n",
    "\n",
    "利用经纬度计算骑行距离\n",
    "分析起终点的分布模式\n",
    "\n",
    "\n",
    "4 车型偏好:\n",
    "\n",
    "对比两类用户对electric_bike vs classic_bike的偏好"
   ]
  },
  {
   "cell_type": "code",
   "execution_count": 27,
   "id": "f4acc18a-7140-44b4-bc2d-c13215b4c25e",
   "metadata": {},
   "outputs": [],
   "source": [
    "# 创建骑行时长字段（这对后续分析很重要）\n",
    "df_clean['raid_duration_min'] = (df_clean['ended_at'] - df_clean['started_at']).dt.total_seconds() / 60    #转为分钟"
   ]
  },
  {
   "cell_type": "code",
   "execution_count": 28,
   "id": "8af9d0c6-6bba-483f-9560-8174bba8101c",
   "metadata": {},
   "outputs": [
    {
     "data": {
      "text/plain": [
       "0           7.53\n",
       "1           7.22\n",
       "2           8.00\n",
       "3          29.82\n",
       "4          26.20\n",
       "           ...  \n",
       "5860563    13.80\n",
       "5860564    11.28\n",
       "5860565     7.31\n",
       "5860566     5.57\n",
       "5860567     7.91\n",
       "Name: raid_duration_min, Length: 5853336, dtype: float64"
      ]
     },
     "execution_count": 28,
     "metadata": {},
     "output_type": "execute_result"
    }
   ],
   "source": [
    "df_clean['raid_duration_min'].round(2)  #保留两位小数（没引用）"
   ]
  },
  {
   "cell_type": "code",
   "execution_count": 29,
   "id": "14311b8d-0e50-4834-84ec-e48effe011ba",
   "metadata": {},
   "outputs": [
    {
     "name": "stdout",
     "output_type": "stream",
     "text": [
      "=== 异常骑行时间检查 ===\n",
      "骑行时间-负时长的异常数据量：227\n",
      "骑行时间-超24小时长的异常数据量：378\n",
      "当前总数据量:5853336\n"
     ]
    }
   ],
   "source": [
    "# 检查是否有异常的骑行时间\n",
    "print(\"=== 异常骑行时间检查 ===\")\n",
    "negative_duration = df_clean[df_clean['raid_duration_min'] < 0]\n",
    "long_duration = df_clean[df_clean['raid_duration_min'] > 1440]\n",
    "print(f\"骑行时间-负时长的异常数据量：{len(negative_duration)}\")\n",
    "print(f\"骑行时间-超24小时长的异常数据量：{len(long_duration)}\")\n",
    "print(f\"当前总数据量:{len(df_clean)}\")"
   ]
  },
  {
   "cell_type": "code",
   "execution_count": 30,
   "id": "194845b0-083a-4a6c-b4db-08c53c13d8a8",
   "metadata": {},
   "outputs": [
    {
     "name": "stdout",
     "output_type": "stream",
     "text": [
      "删除异常时长后的数据量: 5852731\n"
     ]
    }
   ],
   "source": [
    "#删除异常骑行时长的记录\n",
    "df_clean = df_clean[(df_clean['raid_duration_min'] >= 0) & (df_clean['raid_duration_min'] <= 1440)]\n",
    "print(f\"删除异常时长后的数据量: {len(df_clean)}\")"
   ]
  },
  {
   "cell_type": "code",
   "execution_count": 31,
   "id": "d66a752b-044a-453e-9d48-b81370827c76",
   "metadata": {},
   "outputs": [],
   "source": [
    "# 添加有用的时间相关字段\n",
    "df_clean['start_hour'] = df_clean['started_at'].dt.hour  #获取开时间数据中小时的值 并创建新列\n",
    "df_clean['start_month'] = df_clean['started_at'].dt.month   #获取时间数据中月份的值 并创建新列\n",
    "df_clean['start_date'] = df_clean['started_at'].dt.date    #获取时间数据中的日期 并创建新列\n",
    "df_clean['start_day_of_week'] = df_clean['started_at'].dt.dayofweek    #根据当前日期 创建周一至周日数字标志  0=周一 - 6=周日"
   ]
  },
  {
   "cell_type": "code",
   "execution_count": 32,
   "id": "a632db09-237f-4de7-a0b8-56fd28c61fa7",
   "metadata": {},
   "outputs": [],
   "source": [
    "# 添加 `is_weekend` 列(布尔值) 用于 区分 周内 与 周末\n",
    "df_clean['is_weekend'] = df_clean['start_day_of_week'].isin([5, 6])   # 5周六，6周日"
   ]
  },
  {
   "cell_type": "code",
   "execution_count": 33,
   "id": "7fcf97ce-f221-4907-a635-42d825e30e22",
   "metadata": {},
   "outputs": [],
   "source": [
    "# 添加 start_station_misson , end_station_misson 列 用于标识 开始站点丢失数据的布尔标识\n",
    "df_clean['start_station_misson'] = df_clean['start_station_name'] == 'UNKNOWN_START'\n",
    "df_clean['end_station_misson'] = df_clean['end_station_name'] == 'UNKNOWN_END'"
   ]
  },
  {
   "cell_type": "code",
   "execution_count": 34,
   "id": "8f6bef0e-dd88-4e1c-a670-93b7a2962c2e",
   "metadata": {},
   "outputs": [
    {
     "name": "stdout",
     "output_type": "stream",
     "text": [
      "<class 'pandas.core.frame.DataFrame'>\n",
      "Index: 5852731 entries, 0 to 5860567\n",
      "Data columns (total 21 columns):\n",
      " #   Column                Dtype         \n",
      "---  ------                -----         \n",
      " 0   ride_id               object        \n",
      " 1   rideable_type         object        \n",
      " 2   started_at            datetime64[ns]\n",
      " 3   ended_at              datetime64[ns]\n",
      " 4   start_station_name    object        \n",
      " 5   start_station_id      object        \n",
      " 6   end_station_name      object        \n",
      " 7   end_station_id        object        \n",
      " 8   start_lat             float64       \n",
      " 9   start_lng             float64       \n",
      " 10  end_lat               float64       \n",
      " 11  end_lng               float64       \n",
      " 12  member_casual         object        \n",
      " 13  raid_duration_min     float64       \n",
      " 14  start_hour            int32         \n",
      " 15  start_month           int32         \n",
      " 16  start_date            object        \n",
      " 17  start_day_of_week     int32         \n",
      " 18  is_weekend            bool          \n",
      " 19  start_station_misson  bool          \n",
      " 20  end_station_misson    bool          \n",
      "dtypes: bool(3), datetime64[ns](2), float64(5), int32(3), object(8)\n",
      "memory usage: 798.2+ MB\n"
     ]
    }
   ],
   "source": [
    "df_clean.info()"
   ]
  },
  {
   "cell_type": "markdown",
   "id": "3f7c5e1d-1c6e-4206-a5ae-2bde72189d35",
   "metadata": {},
   "source": [
    "### 新增字段\n",
    "- raid_duration_min\n",
    "- start_hour\n",
    "- start_month\n",
    "- start_date\n",
    "- start_day_of_week\n",
    "- is_weekend\n",
    "- start_station_misson\n",
    "- end_station_misson\n",
    "\n",
    "\n",
    "| #  | 列名                   | 类型 (Dtype)     | 说明                                       |\n",
    "| -- | ---------------------- | ---------------- | ------------------------------------------ |\n",
    "| 0  | ride_id                | object           | 骑行 ID，通常是字符串                      |\n",
    "| 1  | rideable_type          | object           | 车辆类型，例如 \"electric_bike\"、\"classic_bike\" |\n",
    "| 2  | started_at             | datetime64[ns]   | 骑行开始时间                               |\n",
    "| 3  | ended_at               | datetime64[ns]   | 骑行结束时间                               |\n",
    "| 4  | start_station_name     | object           | 起始站点名称                               |\n",
    "| 5  | start_station_id       | object           | 起始站点 ID（可能是字符串）                |\n",
    "| 6  | end_station_name       | object           | 终点站名称                                 |\n",
    "| 7  | end_station_id         | object           | 终点站 ID                                  |\n",
    "| 8  | start_lat              | float64          | 起点纬度                                   |\n",
    "| 9  | start_lng              | float64          | 起点经度                                   |\n",
    "| 10 | end_lat                | float64          | 终点纬度                                   |\n",
    "| 11 | end_lng                | float64          | 终点经度                                   |\n",
    "| 12 | member_casual          | object           | 用户类型（会员或非会员）                   |\n",
    "|    | **↓ 以下为分析用新增字段 ↓** |                  |                                            |\n",
    "| 13 | raid_duration_min      | float64          | 骑行总时长（分钟）                         |\n",
    "| 14 | start_hour             | int64            | 骑行开始时间的小时（0–23）                 |\n",
    "| 15 | start_month            | int64            | 骑行开始的月份（1–12）                     |\n",
    "| 16 | start_date             | object           | 骑行开始的日期（年-月-日）                 |\n",
    "| 17 | start_day_of_week      | int64            | 骑行开始是星期几（0=周一，6=周日）         |\n",
    "| 18 | is_weekend             | bool             | 是否为周末（周六/周日）                    |\n",
    "| 19 | start_station_misson   | bool             | 起始站点是否为 UNKNOW_STAR（布尔值）       |\n",
    "| 20 | end_station_misson     | bool             | 终点站点是否为 UNKNOW_END（布尔值）        |\n",
    "\n"
   ]
  },
  {
   "cell_type": "code",
   "execution_count": 35,
   "id": "d5e1d331-aeea-4dc4-a50b-ab390cde3199",
   "metadata": {},
   "outputs": [
    {
     "data": {
      "text/html": [
       "<div>\n",
       "<style scoped>\n",
       "    .dataframe tbody tr th:only-of-type {\n",
       "        vertical-align: middle;\n",
       "    }\n",
       "\n",
       "    .dataframe tbody tr th {\n",
       "        vertical-align: top;\n",
       "    }\n",
       "\n",
       "    .dataframe thead th {\n",
       "        text-align: right;\n",
       "    }\n",
       "</style>\n",
       "<table border=\"1\" class=\"dataframe\">\n",
       "  <thead>\n",
       "    <tr style=\"text-align: right;\">\n",
       "      <th></th>\n",
       "      <th>member_casual</th>\n",
       "      <th>raid_duration_min</th>\n",
       "    </tr>\n",
       "  </thead>\n",
       "  <tbody>\n",
       "    <tr>\n",
       "      <th>count</th>\n",
       "      <td>5852731</td>\n",
       "      <td>5852731.00</td>\n",
       "    </tr>\n",
       "    <tr>\n",
       "      <th>unique</th>\n",
       "      <td>2</td>\n",
       "      <td>NaN</td>\n",
       "    </tr>\n",
       "    <tr>\n",
       "      <th>top</th>\n",
       "      <td>member</td>\n",
       "      <td>NaN</td>\n",
       "    </tr>\n",
       "    <tr>\n",
       "      <th>freq</th>\n",
       "      <td>3707332</td>\n",
       "      <td>NaN</td>\n",
       "    </tr>\n",
       "    <tr>\n",
       "      <th>mean</th>\n",
       "      <td>NaN</td>\n",
       "      <td>15.39</td>\n",
       "    </tr>\n",
       "    <tr>\n",
       "      <th>std</th>\n",
       "      <td>NaN</td>\n",
       "      <td>30.65</td>\n",
       "    </tr>\n",
       "    <tr>\n",
       "      <th>min</th>\n",
       "      <td>NaN</td>\n",
       "      <td>0.00</td>\n",
       "    </tr>\n",
       "    <tr>\n",
       "      <th>25%</th>\n",
       "      <td>NaN</td>\n",
       "      <td>5.54</td>\n",
       "    </tr>\n",
       "    <tr>\n",
       "      <th>50%</th>\n",
       "      <td>NaN</td>\n",
       "      <td>9.70</td>\n",
       "    </tr>\n",
       "    <tr>\n",
       "      <th>75%</th>\n",
       "      <td>NaN</td>\n",
       "      <td>17.20</td>\n",
       "    </tr>\n",
       "    <tr>\n",
       "      <th>max</th>\n",
       "      <td>NaN</td>\n",
       "      <td>1439.83</td>\n",
       "    </tr>\n",
       "  </tbody>\n",
       "</table>\n",
       "</div>"
      ],
      "text/plain": [
       "       member_casual  raid_duration_min\n",
       "count        5852731         5852731.00\n",
       "unique             2                NaN\n",
       "top           member                NaN\n",
       "freq         3707332                NaN\n",
       "mean             NaN              15.39\n",
       "std              NaN              30.65\n",
       "min              NaN               0.00\n",
       "25%              NaN               5.54\n",
       "50%              NaN               9.70\n",
       "75%              NaN              17.20\n",
       "max              NaN            1439.83"
      ]
     },
     "execution_count": 35,
     "metadata": {},
     "output_type": "execute_result"
    }
   ],
   "source": [
    "# 清洗后关键数据的统计概况\n",
    "pd.options.display.float_format = '{:.2f}'.format    #设置 pandas 的全局浮点数显示格式\n",
    "df_clean[['member_casual','raid_duration_min']].describe(include='all')"
   ]
  },
  {
   "cell_type": "markdown",
   "id": "7c4b22dc-a0e2-4745-9b0c-4177fe6aceaf",
   "metadata": {},
   "source": [
    "# 🧠 探索性数据分析 EDA"
   ]
  },
  {
   "cell_type": "code",
   "execution_count": 36,
   "id": "25f82fd1-c98f-4d6a-ab75-81912e904060",
   "metadata": {},
   "outputs": [],
   "source": [
    "# 导入 datetime 库\n",
    "from datetime import datetime"
   ]
  },
  {
   "cell_type": "code",
   "execution_count": 37,
   "id": "e9abe95d-9113-4ae1-b217-26a27f39a0ce",
   "metadata": {},
   "outputs": [
    {
     "data": {
      "text/plain": [
       "0         2024-01-12\n",
       "1         2024-01-08\n",
       "2         2024-01-27\n",
       "3         2024-01-29\n",
       "4         2024-01-31\n",
       "             ...    \n",
       "5860563   2024-12-11\n",
       "5860564   2024-12-09\n",
       "5860565   2024-12-31\n",
       "5860566   2024-12-01\n",
       "5860567   2024-12-17\n",
       "Name: start_date, Length: 5852731, dtype: datetime64[ns]"
      ]
     },
     "execution_count": 37,
     "metadata": {},
     "output_type": "execute_result"
    }
   ],
   "source": [
    "# start_date 转为 datetime\n",
    "df_clean['start_date'] = pd.to_datetime(df_clean['start_date'])\n",
    "df_clean['start_date']"
   ]
  },
  {
   "cell_type": "code",
   "execution_count": 38,
   "id": "6c65808e-16f3-4159-a622-36cba94eaa24",
   "metadata": {},
   "outputs": [
    {
     "name": "stdout",
     "output_type": "stream",
     "text": [
      "<class 'pandas.core.frame.DataFrame'>\n",
      "Index: 5852731 entries, 0 to 5860567\n",
      "Data columns (total 21 columns):\n",
      " #   Column                Dtype         \n",
      "---  ------                -----         \n",
      " 0   ride_id               object        \n",
      " 1   rideable_type         object        \n",
      " 2   started_at            datetime64[ns]\n",
      " 3   ended_at              datetime64[ns]\n",
      " 4   start_station_name    object        \n",
      " 5   start_station_id      object        \n",
      " 6   end_station_name      object        \n",
      " 7   end_station_id        object        \n",
      " 8   start_lat             float64       \n",
      " 9   start_lng             float64       \n",
      " 10  end_lat               float64       \n",
      " 11  end_lng               float64       \n",
      " 12  member_casual         object        \n",
      " 13  raid_duration_min     float64       \n",
      " 14  start_hour            int32         \n",
      " 15  start_month           int32         \n",
      " 16  start_date            datetime64[ns]\n",
      " 17  start_day_of_week     int32         \n",
      " 18  is_weekend            bool          \n",
      " 19  start_station_misson  bool          \n",
      " 20  end_station_misson    bool          \n",
      "dtypes: bool(3), datetime64[ns](3), float64(5), int32(3), object(7)\n",
      "memory usage: 798.2+ MB\n"
     ]
    }
   ],
   "source": [
    "df_clean.info()"
   ]
  },
  {
   "cell_type": "markdown",
   "id": "90b6edfc-02a2-4d15-8bac-e7d111f052ea",
   "metadata": {},
   "source": [
    "### 1. 用户类型基本分布"
   ]
  },
  {
   "cell_type": "code",
   "execution_count": 39,
   "id": "44ca9a13-f7b6-4bbb-854f-6e4b6a0f7f66",
   "metadata": {},
   "outputs": [
    {
     "name": "stdout",
     "output_type": "stream",
     "text": [
      "用户类型分布\n",
      "member:骑行次数为3707332, 占比63.34%\n",
      "casual:骑行次数为2145399, 占比36.66%\n"
     ]
    }
   ],
   "source": [
    "user_count = df_clean['member_casual'].value_counts()\n",
    "user_percentages = df_clean['member_casual'].value_counts(normalize=True) * 100\n",
    "\n",
    "print('用户类型分布')\n",
    "for user_type in user_count.index:\n",
    "    print(f\"{user_type}:骑行次数为{user_count[user_type]}, 占比{user_percentages[user_type]:.2f}%\")"
   ]
  },
  {
   "cell_type": "markdown",
   "id": "0d8eb842-368b-4af8-b950-78651a1c63a8",
   "metadata": {},
   "source": [
    "### 2. 骑行时长分布"
   ]
  },
  {
   "cell_type": "code",
   "execution_count": 40,
   "id": "7e685dc9-6d0d-48dc-ab17-36a6f494889e",
   "metadata": {},
   "outputs": [
    {
     "name": "stdout",
     "output_type": "stream",
     "text": [
      "按用户类型分组的骑行时长统计（分钟 ）\n"
     ]
    },
    {
     "data": {
      "text/html": [
       "<div>\n",
       "<style scoped>\n",
       "    .dataframe tbody tr th:only-of-type {\n",
       "        vertical-align: middle;\n",
       "    }\n",
       "\n",
       "    .dataframe tbody tr th {\n",
       "        vertical-align: top;\n",
       "    }\n",
       "\n",
       "    .dataframe thead th {\n",
       "        text-align: right;\n",
       "    }\n",
       "</style>\n",
       "<table border=\"1\" class=\"dataframe\">\n",
       "  <thead>\n",
       "    <tr style=\"text-align: right;\">\n",
       "      <th></th>\n",
       "      <th>count</th>\n",
       "      <th>mean</th>\n",
       "      <th>std</th>\n",
       "      <th>min</th>\n",
       "      <th>25%</th>\n",
       "      <th>50%</th>\n",
       "      <th>75%</th>\n",
       "      <th>max</th>\n",
       "    </tr>\n",
       "    <tr>\n",
       "      <th>member_casual</th>\n",
       "      <th></th>\n",
       "      <th></th>\n",
       "      <th></th>\n",
       "      <th></th>\n",
       "      <th></th>\n",
       "      <th></th>\n",
       "      <th></th>\n",
       "      <th></th>\n",
       "    </tr>\n",
       "  </thead>\n",
       "  <tbody>\n",
       "    <tr>\n",
       "      <th>casual</th>\n",
       "      <td>2145399.00</td>\n",
       "      <td>20.92</td>\n",
       "      <td>42.34</td>\n",
       "      <td>0.00</td>\n",
       "      <td>6.67</td>\n",
       "      <td>12.02</td>\n",
       "      <td>22.62</td>\n",
       "      <td>1439.83</td>\n",
       "    </tr>\n",
       "    <tr>\n",
       "      <th>member</th>\n",
       "      <td>3707332.00</td>\n",
       "      <td>12.19</td>\n",
       "      <td>20.43</td>\n",
       "      <td>0.00</td>\n",
       "      <td>5.09</td>\n",
       "      <td>8.69</td>\n",
       "      <td>14.78</td>\n",
       "      <td>1439.82</td>\n",
       "    </tr>\n",
       "  </tbody>\n",
       "</table>\n",
       "</div>"
      ],
      "text/plain": [
       "                   count  mean   std  min  25%   50%   75%     max\n",
       "member_casual                                                     \n",
       "casual        2145399.00 20.92 42.34 0.00 6.67 12.02 22.62 1439.83\n",
       "member        3707332.00 12.19 20.43 0.00 5.09  8.69 14.78 1439.82"
      ]
     },
     "execution_count": 40,
     "metadata": {},
     "output_type": "execute_result"
    }
   ],
   "source": [
    "duration_state = df_clean.groupby('member_casual')['raid_duration_min'].describe()\n",
    "print(\"按用户类型分组的骑行时长统计（分钟 ）\")\n",
    "duration_state.round(2)"
   ]
  },
  {
   "cell_type": "markdown",
   "id": "fa614a82-4743-4700-a887-207c26123b00",
   "metadata": {},
   "source": [
    "因为存在极大，极小异常值，均值显得不那么靠谱，我们将侧重考虑中位数"
   ]
  },
  {
   "cell_type": "markdown",
   "id": "f8d8f72b-cd9e-412f-ab31-196c883b4b2b",
   "metadata": {},
   "source": [
    "骑行时长中位数\n",
    "- casual : 12.02 分钟\n",
    "- member : 8.69 分钟"
   ]
  },
  {
   "cell_type": "markdown",
   "id": "42b587f5-f3e8-4322-8984-bcc2fce16f01",
   "metadata": {},
   "source": [
    "### 3. 单车类型偏好分布"
   ]
  },
  {
   "cell_type": "code",
   "execution_count": 41,
   "id": "9f49e216-bd80-438b-a76e-8566fc2345a7",
   "metadata": {},
   "outputs": [
    {
     "name": "stdout",
     "output_type": "stream",
     "text": [
      "单车类型使用分布:\n",
      "rideable_type  classic_bike  electric_bike  electric_scooter\n",
      "member_casual                                               \n",
      "casual               968793        1091391             85215\n",
      "member              1759217        1888993             59122\n",
      "------------------------------\n",
      "所有用户骑行记录中，每种用户-单车类型组合占的比例:\n",
      "rideable_type  classic_bike  electric_bike  electric_scooter\n",
      "member_casual                                               \n",
      "casual                16.55          18.65              1.46\n",
      "member                30.06          32.28              1.01\n"
     ]
    }
   ],
   "source": [
    "# 单车类型偏好分布\n",
    "bike_preference = pd.crosstab(df_clean['member_casual'], df_clean['rideable_type'])\n",
    "\n",
    "# 所有用户骑行记录中，每种用户-单车类型组合占的比例。\n",
    "# normalize=True，表示对整个表进行总和归一化 表中所有格子的值加起来是 1（乘 100 后就是 100%）\n",
    "bike_percentage = pd.crosstab(df_clean['member_casual'], df_clean['rideable_type'], normalize=True) * 100\n",
    "\n",
    "print(\"单车类型使用分布:\")\n",
    "print(bike_preference)\n",
    "print('-' * 30)\n",
    "print(\"所有用户骑行记录中，每种用户-单车类型组合占的比例:\")\n",
    "print(bike_percentage)"
   ]
  },
  {
   "cell_type": "markdown",
   "id": "5f099b8b-5ed4-46e1-82a9-0cf3e4ad0291",
   "metadata": {},
   "source": [
    "### 4. 时间使用模式分析"
   ]
  },
  {
   "cell_type": "markdown",
   "id": "75a987bb-ef68-4b21-b9a4-8de80810db54",
   "metadata": {},
   "source": [
    "#### 4-1 按小时分析"
   ]
  },
  {
   "cell_type": "code",
   "execution_count": 42,
   "id": "34672ba4-a4b0-43c1-8a4b-c8c26adea839",
   "metadata": {},
   "outputs": [],
   "source": [
    "# 每个时段（按小时算）两种类型会员的用车记录数\n",
    "hourly_usage = df_clean.groupby(['member_casual', 'start_hour']).size()"
   ]
  },
  {
   "cell_type": "code",
   "execution_count": 43,
   "id": "c82b3fb0-e5b8-4a9a-972a-5c1d56a8cc83",
   "metadata": {},
   "outputs": [
    {
     "name": "stdout",
     "output_type": "stream",
     "text": [
      "年度会员的高峰使用时间，三个阶段\n",
      " 17:00 - 203472次骑行\n",
      " 16:00 - 190957次骑行\n",
      " 18:00 - 173482次骑行\n",
      "非正式会员的高峰使用时间，三个阶段\n",
      " 17:00 - 203472次骑行\n",
      " 16:00 - 190957次骑行\n",
      " 18:00 - 173482次骑行\n"
     ]
    }
   ],
   "source": [
    "#筛选出 member 正式会员 使用频率最高的三个时间段\n",
    "peak_hours_member = hourly_usage.loc['member'].nlargest(3)\n",
    "#筛选出 casual 非正式会员 使用频率最高的三个时间段\n",
    "peak_hours_casual = hourly_usage.loc['casual'].nlargest(3)\n",
    "\n",
    "print(\"年度会员的高峰使用时间，三个阶段\")\n",
    "for hour, count in peak_hours_casual.items():\n",
    "    print(f\" {hour}:00 - {count}次骑行\")\n",
    "\n",
    "print(\"非正式会员的高峰使用时间，三个阶段\")\n",
    "for hour, count in peak_hours_casual.items():\n",
    "    print(f\" {hour}:00 - {count}次骑行\")"
   ]
  },
  {
   "cell_type": "markdown",
   "id": "2c7d5950-0ac0-4ca0-a84a-88fe7a9491e3",
   "metadata": {},
   "source": [
    "#### 4-2 工作日 VS 周末 分析"
   ]
  },
  {
   "cell_type": "code",
   "execution_count": 44,
   "id": "0b0ceaf5-83d3-4321-8e31-e7b6e139b246",
   "metadata": {},
   "outputs": [
    {
     "name": "stdout",
     "output_type": "stream",
     "text": [
      "member_casual   casual   member\n",
      "is_weekend                     \n",
      "False          1332765  2810816\n",
      "True            812634   896516\n"
     ]
    }
   ],
   "source": [
    "# 按用户类型和是否是周末的记录分组，统计信息条数\n",
    "weekend_usage = (\n",
    "    df_clean\n",
    "        .groupby(['member_casual','is_weekend'])\n",
    "        .size()\n",
    "        .unstack(level=0, fill_value=0)\n",
    ")\n",
    "print(weekend_usage)"
   ]
  },
  {
   "cell_type": "code",
   "execution_count": 45,
   "id": "7d302786-ed1f-46e3-a6fd-c2d1c0ae64f6",
   "metadata": {},
   "outputs": [
    {
     "data": {
      "text/html": [
       "<style type=\"text/css\">\n",
       "</style>\n",
       "<table id=\"T_44c6c\">\n",
       "  <thead>\n",
       "    <tr>\n",
       "      <th class=\"blank\" >&nbsp;</th>\n",
       "      <th class=\"index_name level0\" >member_casual</th>\n",
       "      <th id=\"T_44c6c_level0_col0\" class=\"col_heading level0 col0\" >casual</th>\n",
       "      <th id=\"T_44c6c_level0_col1\" class=\"col_heading level0 col1\" >member</th>\n",
       "    </tr>\n",
       "    <tr>\n",
       "      <th class=\"index_name level0\" >member_casual</th>\n",
       "      <th class=\"index_name level1\" >is_weekend</th>\n",
       "      <th class=\"blank col0\" >&nbsp;</th>\n",
       "      <th class=\"blank col1\" >&nbsp;</th>\n",
       "    </tr>\n",
       "  </thead>\n",
       "  <tbody>\n",
       "    <tr>\n",
       "      <th id=\"T_44c6c_level0_row0\" class=\"row_heading level0 row0\" rowspan=\"2\">casual</th>\n",
       "      <th id=\"T_44c6c_level1_row0\" class=\"row_heading level1 row0\" >False</th>\n",
       "      <td id=\"T_44c6c_row0_col0\" class=\"data row0 col0\" >62.12%</td>\n",
       "      <td id=\"T_44c6c_row0_col1\" class=\"data row0 col1\" >0.00%</td>\n",
       "    </tr>\n",
       "    <tr>\n",
       "      <th id=\"T_44c6c_level1_row1\" class=\"row_heading level1 row1\" >True</th>\n",
       "      <td id=\"T_44c6c_row1_col0\" class=\"data row1 col0\" >37.88%</td>\n",
       "      <td id=\"T_44c6c_row1_col1\" class=\"data row1 col1\" >0.00%</td>\n",
       "    </tr>\n",
       "    <tr>\n",
       "      <th id=\"T_44c6c_level0_row2\" class=\"row_heading level0 row2\" rowspan=\"2\">member</th>\n",
       "      <th id=\"T_44c6c_level1_row2\" class=\"row_heading level1 row2\" >False</th>\n",
       "      <td id=\"T_44c6c_row2_col0\" class=\"data row2 col0\" >0.00%</td>\n",
       "      <td id=\"T_44c6c_row2_col1\" class=\"data row2 col1\" >75.82%</td>\n",
       "    </tr>\n",
       "    <tr>\n",
       "      <th id=\"T_44c6c_level1_row3\" class=\"row_heading level1 row3\" >True</th>\n",
       "      <td id=\"T_44c6c_row3_col0\" class=\"data row3 col0\" >0.00%</td>\n",
       "      <td id=\"T_44c6c_row3_col1\" class=\"data row3 col1\" >24.18%</td>\n",
       "    </tr>\n",
       "  </tbody>\n",
       "</table>\n"
      ],
      "text/plain": [
       "<pandas.io.formats.style.Styler at 0x255c2869390>"
      ]
     },
     "execution_count": 45,
     "metadata": {},
     "output_type": "execute_result"
    }
   ],
   "source": [
    "# 按用户类型和是否是周末的记录分组，统计信息占比\n",
    "weekend_precentage = (\n",
    "    df_clean\n",
    "        .groupby(['member_casual','is_weekend'])\n",
    "        .size().groupby(level=0)\n",
    "        .apply(lambda x:x / x.sum() * 100)\n",
    "        .unstack(level=0, fill_value=0)\n",
    ")\n",
    "weekend_precentage.style.format(\"{:.2f}%\")    # 临时 加入百分号并保留2位小数 返回展示数据 并不会修改 weekend_precentage"
   ]
  },
  {
   "cell_type": "code",
   "execution_count": 46,
   "id": "d6383fff-ce04-4536-8f54-a515401fbe7c",
   "metadata": {},
   "outputs": [
    {
     "name": "stdout",
     "output_type": "stream",
     "text": [
      "工作日vs周末使用分布\n",
      "骑行次数：\n",
      "member_casual    非正式会员     年度会员\n",
      "is_weekend                     \n",
      "工作日            1332765  2810816\n",
      "周末              812634   896516\n",
      "\n",
      "------------------------------\n",
      "百分比对照：\n",
      "member_casual             非正式会员  年度会员\n",
      "member_casual is_weekend             \n",
      "casual        工作日         62.12  0.00\n",
      "              周末          37.88  0.00\n",
      "member        工作日          0.00 75.82\n",
      "              周末           0.00 24.18\n"
     ]
    }
   ],
   "source": [
    "print(f\"工作日vs周末使用分布\")\n",
    "print(\"骑行次数：\")\n",
    "print(weekend_usage.rename(index={False: '工作日', True: '周末'}, columns={'casual': '非正式会员', 'member': '年度会员'}))\n",
    "print(f'\\n' + '-' * 30 )\n",
    "print(\"百分比对照：\")\n",
    "print(weekend_precentage.rename(index={False: '工作日', True: '周末'}, columns={'casual': '非正式会员', 'member': '年度会员'}))"
   ]
  },
  {
   "cell_type": "markdown",
   "id": "968d3d4f-5498-4ac7-a095-e517c6194a6f",
   "metadata": {},
   "source": [
    "### 5. 月度使用趋势"
   ]
  },
  {
   "cell_type": "code",
   "execution_count": 47,
   "id": "0ca4819f-0896-4500-8424-fdcb2fc8788e",
   "metadata": {},
   "outputs": [
    {
     "name": "stdout",
     "output_type": "stream",
     "text": [
      "\n",
      "=== 每月年度会员与非正式会员使用次数 ===\n"
     ]
    },
    {
     "data": {
      "text/html": [
       "<div>\n",
       "<style scoped>\n",
       "    .dataframe tbody tr th:only-of-type {\n",
       "        vertical-align: middle;\n",
       "    }\n",
       "\n",
       "    .dataframe tbody tr th {\n",
       "        vertical-align: top;\n",
       "    }\n",
       "\n",
       "    .dataframe thead th {\n",
       "        text-align: right;\n",
       "    }\n",
       "</style>\n",
       "<table border=\"1\" class=\"dataframe\">\n",
       "  <thead>\n",
       "    <tr style=\"text-align: right;\">\n",
       "      <th>member_casual</th>\n",
       "      <th>casual</th>\n",
       "      <th>member</th>\n",
       "    </tr>\n",
       "    <tr>\n",
       "      <th>start_month</th>\n",
       "      <th></th>\n",
       "      <th></th>\n",
       "    </tr>\n",
       "  </thead>\n",
       "  <tbody>\n",
       "    <tr>\n",
       "      <th>1</th>\n",
       "      <td>24332</td>\n",
       "      <td>120192</td>\n",
       "    </tr>\n",
       "    <tr>\n",
       "      <th>2</th>\n",
       "      <td>46935</td>\n",
       "      <td>175856</td>\n",
       "    </tr>\n",
       "    <tr>\n",
       "      <th>3</th>\n",
       "      <td>82233</td>\n",
       "      <td>219014</td>\n",
       "    </tr>\n",
       "    <tr>\n",
       "      <th>4</th>\n",
       "      <td>131381</td>\n",
       "      <td>283069</td>\n",
       "    </tr>\n",
       "    <tr>\n",
       "      <th>5</th>\n",
       "      <td>230400</td>\n",
       "      <td>378360</td>\n",
       "    </tr>\n",
       "    <tr>\n",
       "      <th>6</th>\n",
       "      <td>300153</td>\n",
       "      <td>409400</td>\n",
       "    </tr>\n",
       "    <tr>\n",
       "      <th>7</th>\n",
       "      <td>319560</td>\n",
       "      <td>428278</td>\n",
       "    </tr>\n",
       "    <tr>\n",
       "      <th>8</th>\n",
       "      <td>317542</td>\n",
       "      <td>437259</td>\n",
       "    </tr>\n",
       "    <tr>\n",
       "      <th>9</th>\n",
       "      <td>345854</td>\n",
       "      <td>474282</td>\n",
       "    </tr>\n",
       "    <tr>\n",
       "      <th>10</th>\n",
       "      <td>215933</td>\n",
       "      <td>399755</td>\n",
       "    </tr>\n",
       "    <tr>\n",
       "      <th>11</th>\n",
       "      <td>92813</td>\n",
       "      <td>241907</td>\n",
       "    </tr>\n",
       "    <tr>\n",
       "      <th>12</th>\n",
       "      <td>38263</td>\n",
       "      <td>139960</td>\n",
       "    </tr>\n",
       "  </tbody>\n",
       "</table>\n",
       "</div>"
      ],
      "text/plain": [
       "member_casual  casual  member\n",
       "start_month                  \n",
       "1               24332  120192\n",
       "2               46935  175856\n",
       "3               82233  219014\n",
       "4              131381  283069\n",
       "5              230400  378360\n",
       "6              300153  409400\n",
       "7              319560  428278\n",
       "8              317542  437259\n",
       "9              345854  474282\n",
       "10             215933  399755\n",
       "11              92813  241907\n",
       "12              38263  139960"
      ]
     },
     "execution_count": 47,
     "metadata": {},
     "output_type": "execute_result"
    }
   ],
   "source": [
    "# 查看 两种会员 每个月的使用次数对比\n",
    "print(\"\\n=== 每月年度会员与非正式会员使用次数 ===\")\n",
    "monthly_usage = df_clean.groupby(['member_casual', 'start_month']).size().unstack(level=0, fill_value=0)\n",
    "monthly_usage"
   ]
  },
  {
   "cell_type": "code",
   "execution_count": 48,
   "id": "90b5c675-c266-4254-93a8-a6119e4f93ef",
   "metadata": {},
   "outputs": [
    {
     "name": "stdout",
     "output_type": "stream",
     "text": [
      "\n",
      "=== 每月年度会员与非正式会员使用占比 ===\n"
     ]
    },
    {
     "data": {
      "text/html": [
       "<style type=\"text/css\">\n",
       "</style>\n",
       "<table id=\"T_e3e49\">\n",
       "  <thead>\n",
       "    <tr>\n",
       "      <th class=\"index_name level0\" >member_casual</th>\n",
       "      <th id=\"T_e3e49_level0_col0\" class=\"col_heading level0 col0\" >casual</th>\n",
       "      <th id=\"T_e3e49_level0_col1\" class=\"col_heading level0 col1\" >member</th>\n",
       "    </tr>\n",
       "    <tr>\n",
       "      <th class=\"index_name level0\" >start_month</th>\n",
       "      <th class=\"blank col0\" >&nbsp;</th>\n",
       "      <th class=\"blank col1\" >&nbsp;</th>\n",
       "    </tr>\n",
       "  </thead>\n",
       "  <tbody>\n",
       "    <tr>\n",
       "      <th id=\"T_e3e49_level0_row0\" class=\"row_heading level0 row0\" >1</th>\n",
       "      <td id=\"T_e3e49_row0_col0\" class=\"data row0 col0\" >16.84%</td>\n",
       "      <td id=\"T_e3e49_row0_col1\" class=\"data row0 col1\" >83.16%</td>\n",
       "    </tr>\n",
       "    <tr>\n",
       "      <th id=\"T_e3e49_level0_row1\" class=\"row_heading level0 row1\" >2</th>\n",
       "      <td id=\"T_e3e49_row1_col0\" class=\"data row1 col0\" >21.07%</td>\n",
       "      <td id=\"T_e3e49_row1_col1\" class=\"data row1 col1\" >78.93%</td>\n",
       "    </tr>\n",
       "    <tr>\n",
       "      <th id=\"T_e3e49_level0_row2\" class=\"row_heading level0 row2\" >3</th>\n",
       "      <td id=\"T_e3e49_row2_col0\" class=\"data row2 col0\" >27.30%</td>\n",
       "      <td id=\"T_e3e49_row2_col1\" class=\"data row2 col1\" >72.70%</td>\n",
       "    </tr>\n",
       "    <tr>\n",
       "      <th id=\"T_e3e49_level0_row3\" class=\"row_heading level0 row3\" >4</th>\n",
       "      <td id=\"T_e3e49_row3_col0\" class=\"data row3 col0\" >31.70%</td>\n",
       "      <td id=\"T_e3e49_row3_col1\" class=\"data row3 col1\" >68.30%</td>\n",
       "    </tr>\n",
       "    <tr>\n",
       "      <th id=\"T_e3e49_level0_row4\" class=\"row_heading level0 row4\" >5</th>\n",
       "      <td id=\"T_e3e49_row4_col0\" class=\"data row4 col0\" >37.85%</td>\n",
       "      <td id=\"T_e3e49_row4_col1\" class=\"data row4 col1\" >62.15%</td>\n",
       "    </tr>\n",
       "    <tr>\n",
       "      <th id=\"T_e3e49_level0_row5\" class=\"row_heading level0 row5\" >6</th>\n",
       "      <td id=\"T_e3e49_row5_col0\" class=\"data row5 col0\" >42.30%</td>\n",
       "      <td id=\"T_e3e49_row5_col1\" class=\"data row5 col1\" >57.70%</td>\n",
       "    </tr>\n",
       "    <tr>\n",
       "      <th id=\"T_e3e49_level0_row6\" class=\"row_heading level0 row6\" >7</th>\n",
       "      <td id=\"T_e3e49_row6_col0\" class=\"data row6 col0\" >42.73%</td>\n",
       "      <td id=\"T_e3e49_row6_col1\" class=\"data row6 col1\" >57.27%</td>\n",
       "    </tr>\n",
       "    <tr>\n",
       "      <th id=\"T_e3e49_level0_row7\" class=\"row_heading level0 row7\" >8</th>\n",
       "      <td id=\"T_e3e49_row7_col0\" class=\"data row7 col0\" >42.07%</td>\n",
       "      <td id=\"T_e3e49_row7_col1\" class=\"data row7 col1\" >57.93%</td>\n",
       "    </tr>\n",
       "    <tr>\n",
       "      <th id=\"T_e3e49_level0_row8\" class=\"row_heading level0 row8\" >9</th>\n",
       "      <td id=\"T_e3e49_row8_col0\" class=\"data row8 col0\" >42.17%</td>\n",
       "      <td id=\"T_e3e49_row8_col1\" class=\"data row8 col1\" >57.83%</td>\n",
       "    </tr>\n",
       "    <tr>\n",
       "      <th id=\"T_e3e49_level0_row9\" class=\"row_heading level0 row9\" >10</th>\n",
       "      <td id=\"T_e3e49_row9_col0\" class=\"data row9 col0\" >35.07%</td>\n",
       "      <td id=\"T_e3e49_row9_col1\" class=\"data row9 col1\" >64.93%</td>\n",
       "    </tr>\n",
       "    <tr>\n",
       "      <th id=\"T_e3e49_level0_row10\" class=\"row_heading level0 row10\" >11</th>\n",
       "      <td id=\"T_e3e49_row10_col0\" class=\"data row10 col0\" >27.73%</td>\n",
       "      <td id=\"T_e3e49_row10_col1\" class=\"data row10 col1\" >72.27%</td>\n",
       "    </tr>\n",
       "    <tr>\n",
       "      <th id=\"T_e3e49_level0_row11\" class=\"row_heading level0 row11\" >12</th>\n",
       "      <td id=\"T_e3e49_row11_col0\" class=\"data row11 col0\" >21.47%</td>\n",
       "      <td id=\"T_e3e49_row11_col1\" class=\"data row11 col1\" >78.53%</td>\n",
       "    </tr>\n",
       "  </tbody>\n",
       "</table>\n"
      ],
      "text/plain": [
       "<pandas.io.formats.style.Styler at 0x2565917ffd0>"
      ]
     },
     "execution_count": 48,
     "metadata": {},
     "output_type": "execute_result"
    }
   ],
   "source": [
    "# 查看 两种会员 每个月的使用记录百分比比较\n",
    "print(\"\\n=== 每月年度会员与非正式会员使用占比 ===\")\n",
    "monthly_percentage = monthly_usage.div(monthly_usage.sum(axis=1), axis=0).mul(100).round(2)\n",
    "monthly_percentage.style.format(\"{:.2f}%\")    # 临时 加入百分号并保留2位小数 返回展示数据 并不会修改 monthly_percentage"
   ]
  },
  {
   "cell_type": "markdown",
   "id": "db213112-bb19-4c1e-a9ad-33fe8d1f5aa5",
   "metadata": {},
   "source": [
    "### 6. 站点缺失情况分析"
   ]
  },
  {
   "cell_type": "code",
   "execution_count": 49,
   "id": "29fe0f70-8688-431a-aaf2-2ddf726ef735",
   "metadata": {},
   "outputs": [
    {
     "data": {
      "text/html": [
       "<div>\n",
       "<style scoped>\n",
       "    .dataframe tbody tr th:only-of-type {\n",
       "        vertical-align: middle;\n",
       "    }\n",
       "\n",
       "    .dataframe tbody tr th {\n",
       "        vertical-align: top;\n",
       "    }\n",
       "\n",
       "    .dataframe thead th {\n",
       "        text-align: right;\n",
       "    }\n",
       "</style>\n",
       "<table border=\"1\" class=\"dataframe\">\n",
       "  <thead>\n",
       "    <tr style=\"text-align: right;\">\n",
       "      <th></th>\n",
       "      <th>ride_id</th>\n",
       "      <th>rideable_type</th>\n",
       "      <th>started_at</th>\n",
       "      <th>ended_at</th>\n",
       "      <th>start_station_name</th>\n",
       "      <th>start_station_id</th>\n",
       "      <th>end_station_name</th>\n",
       "      <th>end_station_id</th>\n",
       "      <th>start_lat</th>\n",
       "      <th>start_lng</th>\n",
       "      <th>...</th>\n",
       "      <th>end_lng</th>\n",
       "      <th>member_casual</th>\n",
       "      <th>raid_duration_min</th>\n",
       "      <th>start_hour</th>\n",
       "      <th>start_month</th>\n",
       "      <th>start_date</th>\n",
       "      <th>start_day_of_week</th>\n",
       "      <th>is_weekend</th>\n",
       "      <th>start_station_misson</th>\n",
       "      <th>end_station_misson</th>\n",
       "    </tr>\n",
       "  </thead>\n",
       "  <tbody>\n",
       "    <tr>\n",
       "      <th>2781841</th>\n",
       "      <td>EEBFC8971B77F19D</td>\n",
       "      <td>electric_bike</td>\n",
       "      <td>2024-07-12 21:17:21.227</td>\n",
       "      <td>2024-07-12 21:26:54.570</td>\n",
       "      <td>Spaulding Ave &amp; Armitage Ave</td>\n",
       "      <td>15650</td>\n",
       "      <td>Avers Ave &amp; Belmont Ave</td>\n",
       "      <td>15640</td>\n",
       "      <td>41.92</td>\n",
       "      <td>-87.71</td>\n",
       "      <td>...</td>\n",
       "      <td>-87.72</td>\n",
       "      <td>member</td>\n",
       "      <td>9.56</td>\n",
       "      <td>21</td>\n",
       "      <td>7</td>\n",
       "      <td>2024-07-12</td>\n",
       "      <td>4</td>\n",
       "      <td>False</td>\n",
       "      <td>False</td>\n",
       "      <td>False</td>\n",
       "    </tr>\n",
       "    <tr>\n",
       "      <th>1476994</th>\n",
       "      <td>00B8C6DAD7852C4C</td>\n",
       "      <td>classic_bike</td>\n",
       "      <td>2024-05-15 20:02:40.000</td>\n",
       "      <td>2024-05-15 20:15:47.000</td>\n",
       "      <td>Walsh Park</td>\n",
       "      <td>18067</td>\n",
       "      <td>Wilton Ave &amp; Diversey Pkwy*</td>\n",
       "      <td>chargingstx2</td>\n",
       "      <td>41.91</td>\n",
       "      <td>-87.67</td>\n",
       "      <td>...</td>\n",
       "      <td>-87.65</td>\n",
       "      <td>member</td>\n",
       "      <td>13.12</td>\n",
       "      <td>20</td>\n",
       "      <td>5</td>\n",
       "      <td>2024-05-15</td>\n",
       "      <td>2</td>\n",
       "      <td>False</td>\n",
       "      <td>False</td>\n",
       "      <td>False</td>\n",
       "    </tr>\n",
       "    <tr>\n",
       "      <th>2136598</th>\n",
       "      <td>357390E8D63FDB96</td>\n",
       "      <td>electric_bike</td>\n",
       "      <td>2024-06-12 18:51:15.298</td>\n",
       "      <td>2024-06-12 19:19:40.427</td>\n",
       "      <td>Field Blvd &amp; South Water St</td>\n",
       "      <td>15534</td>\n",
       "      <td>UNKNOWN_END</td>\n",
       "      <td>UNKNOWN_END_ID</td>\n",
       "      <td>41.89</td>\n",
       "      <td>-87.62</td>\n",
       "      <td>...</td>\n",
       "      <td>-87.64</td>\n",
       "      <td>member</td>\n",
       "      <td>28.42</td>\n",
       "      <td>18</td>\n",
       "      <td>6</td>\n",
       "      <td>2024-06-12</td>\n",
       "      <td>2</td>\n",
       "      <td>False</td>\n",
       "      <td>False</td>\n",
       "      <td>True</td>\n",
       "    </tr>\n",
       "  </tbody>\n",
       "</table>\n",
       "<p>3 rows × 21 columns</p>\n",
       "</div>"
      ],
      "text/plain": [
       "                  ride_id  rideable_type              started_at  \\\n",
       "2781841  EEBFC8971B77F19D  electric_bike 2024-07-12 21:17:21.227   \n",
       "1476994  00B8C6DAD7852C4C   classic_bike 2024-05-15 20:02:40.000   \n",
       "2136598  357390E8D63FDB96  electric_bike 2024-06-12 18:51:15.298   \n",
       "\n",
       "                       ended_at            start_station_name  \\\n",
       "2781841 2024-07-12 21:26:54.570  Spaulding Ave & Armitage Ave   \n",
       "1476994 2024-05-15 20:15:47.000                    Walsh Park   \n",
       "2136598 2024-06-12 19:19:40.427   Field Blvd & South Water St   \n",
       "\n",
       "        start_station_id             end_station_name  end_station_id  \\\n",
       "2781841            15650      Avers Ave & Belmont Ave           15640   \n",
       "1476994            18067  Wilton Ave & Diversey Pkwy*    chargingstx2   \n",
       "2136598            15534                  UNKNOWN_END  UNKNOWN_END_ID   \n",
       "\n",
       "         start_lat  start_lng  ...  end_lng  member_casual raid_duration_min  \\\n",
       "2781841      41.92     -87.71  ...   -87.72         member              9.56   \n",
       "1476994      41.91     -87.67  ...   -87.65         member             13.12   \n",
       "2136598      41.89     -87.62  ...   -87.64         member             28.42   \n",
       "\n",
       "         start_hour  start_month  start_date start_day_of_week  is_weekend  \\\n",
       "2781841          21            7  2024-07-12                 4       False   \n",
       "1476994          20            5  2024-05-15                 2       False   \n",
       "2136598          18            6  2024-06-12                 2       False   \n",
       "\n",
       "         start_station_misson  end_station_misson  \n",
       "2781841                 False               False  \n",
       "1476994                 False               False  \n",
       "2136598                 False                True  \n",
       "\n",
       "[3 rows x 21 columns]"
      ]
     },
     "execution_count": 49,
     "metadata": {},
     "output_type": "execute_result"
    }
   ],
   "source": [
    "df_clean.sample(3)"
   ]
  },
  {
   "cell_type": "code",
   "execution_count": 50,
   "id": "ca39a3d0-3477-4a91-8135-02dca8ec322f",
   "metadata": {},
   "outputs": [
    {
     "data": {
      "text/html": [
       "<div>\n",
       "<style scoped>\n",
       "    .dataframe tbody tr th:only-of-type {\n",
       "        vertical-align: middle;\n",
       "    }\n",
       "\n",
       "    .dataframe tbody tr th {\n",
       "        vertical-align: top;\n",
       "    }\n",
       "\n",
       "    .dataframe thead th {\n",
       "        text-align: right;\n",
       "    }\n",
       "</style>\n",
       "<table border=\"1\" class=\"dataframe\">\n",
       "  <thead>\n",
       "    <tr style=\"text-align: right;\">\n",
       "      <th></th>\n",
       "      <th>起点缺失次数</th>\n",
       "      <th>终点缺失次数</th>\n",
       "    </tr>\n",
       "    <tr>\n",
       "      <th>member_casual</th>\n",
       "      <th></th>\n",
       "      <th></th>\n",
       "    </tr>\n",
       "  </thead>\n",
       "  <tbody>\n",
       "    <tr>\n",
       "      <th>casual</th>\n",
       "      <td>411093</td>\n",
       "      <td>448538</td>\n",
       "    </tr>\n",
       "    <tr>\n",
       "      <th>member</th>\n",
       "      <td>662730</td>\n",
       "      <td>648499</td>\n",
       "    </tr>\n",
       "  </tbody>\n",
       "</table>\n",
       "</div>"
      ],
      "text/plain": [
       "               起点缺失次数  终点缺失次数\n",
       "member_casual                \n",
       "casual         411093  448538\n",
       "member         662730  648499"
      ]
     },
     "execution_count": 50,
     "metadata": {},
     "output_type": "execute_result"
    }
   ],
   "source": [
    "# 两种会员 与 站点缺失 分析\n",
    "station_missing_als = (\n",
    "    df_clean\n",
    "        .groupby('member_casual')[['start_station_misson', 'end_station_misson']]\n",
    "        .sum()\n",
    "        .rename(columns={\n",
    "            'start_station_misson': '起点缺失次数',\n",
    "            'end_station_misson': '终点缺失次数'\n",
    "        })\n",
    ")\n",
    "station_missing_als"
   ]
  },
  {
   "cell_type": "code",
   "execution_count": 51,
   "id": "4dff50cc-a39c-45a3-a93c-70e0fa2726c5",
   "metadata": {},
   "outputs": [
    {
     "data": {
      "text/html": [
       "<style type=\"text/css\">\n",
       "</style>\n",
       "<table id=\"T_8d172\">\n",
       "  <thead>\n",
       "    <tr>\n",
       "      <th class=\"blank level0\" >&nbsp;</th>\n",
       "      <th id=\"T_8d172_level0_col0\" class=\"col_heading level0 col0\" >起点缺失次数</th>\n",
       "      <th id=\"T_8d172_level0_col1\" class=\"col_heading level0 col1\" >终点缺失次数</th>\n",
       "    </tr>\n",
       "    <tr>\n",
       "      <th class=\"index_name level0\" >member_casual</th>\n",
       "      <th class=\"blank col0\" >&nbsp;</th>\n",
       "      <th class=\"blank col1\" >&nbsp;</th>\n",
       "    </tr>\n",
       "  </thead>\n",
       "  <tbody>\n",
       "    <tr>\n",
       "      <th id=\"T_8d172_level0_row0\" class=\"row_heading level0 row0\" >casual</th>\n",
       "      <td id=\"T_8d172_row0_col0\" class=\"data row0 col0\" >47.82%</td>\n",
       "      <td id=\"T_8d172_row0_col1\" class=\"data row0 col1\" >52.18%</td>\n",
       "    </tr>\n",
       "    <tr>\n",
       "      <th id=\"T_8d172_level0_row1\" class=\"row_heading level0 row1\" >member</th>\n",
       "      <td id=\"T_8d172_row1_col0\" class=\"data row1 col0\" >50.54%</td>\n",
       "      <td id=\"T_8d172_row1_col1\" class=\"data row1 col1\" >49.46%</td>\n",
       "    </tr>\n",
       "  </tbody>\n",
       "</table>\n"
      ],
      "text/plain": [
       "<pandas.io.formats.style.Styler at 0x255c540e1d0>"
      ]
     },
     "execution_count": 51,
     "metadata": {},
     "output_type": "execute_result"
    }
   ],
   "source": [
    "# 两种会员 与 站点缺失 的占比分析\n",
    "station_missing_precentage = (\n",
    "    station_missing_als\n",
    "        .div(station_missing_als.sum(axis=1), axis=0)\n",
    "        .mul(100)\n",
    "        .round(2)\n",
    ")\n",
    "station_missing_precentage.style.format('{:.2f}%') "
   ]
  },
  {
   "cell_type": "markdown",
   "id": "9ffa2099-340e-4372-b655-8193128bb617",
   "metadata": {},
   "source": [
    "### 7. 关键发现总结"
   ]
  },
  {
   "cell_type": "markdown",
   "id": "45e6f4d7-501e-4c7d-a19b-d376ae441be4",
   "metadata": {},
   "source": [
    "#### 7-1 计算一些关键指标用于总结"
   ]
  },
  {
   "cell_type": "code",
   "execution_count": 52,
   "id": "0ff7dcee-eb90-44c6-af09-293a46c355e1",
   "metadata": {},
   "outputs": [
    {
     "name": "stdout",
     "output_type": "stream",
     "text": [
      "<class 'pandas.core.frame.DataFrame'>\n",
      "Index: 5852731 entries, 0 to 5860567\n",
      "Data columns (total 21 columns):\n",
      " #   Column                Dtype         \n",
      "---  ------                -----         \n",
      " 0   ride_id               object        \n",
      " 1   rideable_type         object        \n",
      " 2   started_at            datetime64[ns]\n",
      " 3   ended_at              datetime64[ns]\n",
      " 4   start_station_name    object        \n",
      " 5   start_station_id      object        \n",
      " 6   end_station_name      object        \n",
      " 7   end_station_id        object        \n",
      " 8   start_lat             float64       \n",
      " 9   start_lng             float64       \n",
      " 10  end_lat               float64       \n",
      " 11  end_lng               float64       \n",
      " 12  member_casual         object        \n",
      " 13  raid_duration_min     float64       \n",
      " 14  start_hour            int32         \n",
      " 15  start_month           int32         \n",
      " 16  start_date            datetime64[ns]\n",
      " 17  start_day_of_week     int32         \n",
      " 18  is_weekend            bool          \n",
      " 19  start_station_misson  bool          \n",
      " 20  end_station_misson    bool          \n",
      "dtypes: bool(3), datetime64[ns](3), float64(5), int32(3), object(7)\n",
      "memory usage: 798.2+ MB\n"
     ]
    }
   ],
   "source": [
    "df_clean.info()"
   ]
  },
  {
   "cell_type": "code",
   "execution_count": 53,
   "id": "a99957a9-7a19-4e0b-9708-6b770e528abc",
   "metadata": {},
   "outputs": [],
   "source": [
    "# 年度会员平均时长\n",
    "avg_duration_member = df_clean[df_clean['member_casual'] == 'member']['raid_duration_min'].mean()\n",
    "# 非正式会员平均时长\n",
    "avg_duration_casual = df_clean[df_clean['member_casual'] == 'casual']['raid_duration_min'].mean()\n",
    "# 非正式会员 与 年度会员 比值\n",
    "duration_ratio = avg_duration_casual / avg_duration_member"
   ]
  },
  {
   "cell_type": "code",
   "execution_count": 54,
   "id": "12b25f17-c76c-4956-9792-a6c166a85795",
   "metadata": {},
   "outputs": [],
   "source": [
    "# 筛选 member_casual 列中 为 member 的所有观察值，然后再将 is_weekend 整列数值进行求均值\n",
    "weekend_ratio_member = df_clean[df_clean['member_casual'] == 'member']['is_weekend'].mean()\n",
    "# 筛选 member_casual 列中 为 casual 的所有观察值，然后再将 is_weekend 整列数值进行求均值\n",
    "weekend_ratio_casual = df_clean[df_clean['member_casual'] == 'casual']['is_weekend'].mean()"
   ]
  },
  {
   "cell_type": "code",
   "execution_count": 55,
   "id": "e5b3f1af-b691-42bc-a05e-65fcaa5ab77e",
   "metadata": {},
   "outputs": [
    {
     "name": "stdout",
     "output_type": "stream",
     "text": [
      "🚲 用户行为差异关键发现：\n",
      " \n",
      "1. 平均骑行时长：临时用户 20.9(分钟) vs 会员用户 12.2(分钟) \n",
      "    临时用户的平均骑行时长是正式会员的 1.72 倍\n",
      "\n",
      "2. 周末使用偏好：临时用户周末骑行:37.9%  VS 会员用户:24.2%\n",
      "\n",
      "3. 用户规模：临时用户占全部骑行的比例为:36.66% , 会员用户占:63.34%\n"
     ]
    }
   ],
   "source": [
    "print(f\"🚲 用户行为差异关键发现：\")\n",
    "print(f\" \\n1. 平均骑行时长：临时用户 {avg_duration_casual:.1f}(分钟) vs 会员用户 {avg_duration_member:.1f}(分钟) \")\n",
    "print(f\"    临时用户的平均骑行时长是正式会员的 {duration_ratio:.2f} 倍\")\n",
    "print(f\"\\n2. 周末使用偏好：临时用户周末骑行:{weekend_ratio_casual:.1%}  VS 会员用户:{weekend_ratio_member:.1%}\")\n",
    "print(f\"\\n3. 用户规模：临时用户占全部骑行的比例为:{user_percentages['casual']:.2f}% , 会员用户占:{user_percentages['member']:.2f}%\") "
   ]
  },
  {
   "cell_type": "markdown",
   "id": "0376d12e-d614-4a16-b83f-a7dae2a6b4ac",
   "metadata": {
    "editable": true,
    "slideshow": {
     "slide_type": ""
    },
    "tags": []
   },
   "source": [
    "# 📰 可视化分析"
   ]
  },
  {
   "cell_type": "code",
   "execution_count": 56,
   "id": "85f48cdc-28bd-4bf6-97fb-6d8edc0c9384",
   "metadata": {
    "editable": true,
    "slideshow": {
     "slide_type": ""
    },
    "tags": []
   },
   "outputs": [],
   "source": [
    "# 导入  matplotlib seaborn 等库\n",
    "import matplotlib.pyplot as plt\n",
    "import matplotlib.font_manager as fm\n",
    "import seaborn as sns\n",
    "# 该库用于 使用千位逗号分隔（如 500,000）\n",
    "from matplotlib.ticker import StrMethodFormatter"
   ]
  },
  {
   "cell_type": "code",
   "execution_count": 57,
   "id": "428f0431-1458-4c7a-9b3a-5962e5aeb45c",
   "metadata": {
    "jupyter": {
     "source_hidden": true
    }
   },
   "outputs": [
    {
     "name": "stderr",
     "output_type": "stream",
     "text": [
      "findfont: Font family ['STHeiti'] not found. Falling back to DejaVu Sans.\n",
      "findfont: Font family ['WenQuanYi Micro Hei'] not found. Falling back to DejaVu Sans.\n",
      "findfont: Font family ['Droid Sans Fallback'] not found. Falling back to DejaVu Sans.\n",
      "findfont: Font family ['AR PL UKai CN'] not found. Falling back to DejaVu Sans.\n",
      "findfont: Font family ['AR PL UMing CN'] not found. Falling back to DejaVu Sans.\n",
      "findfont: Font family ['PingFang SC'] not found. Falling back to DejaVu Sans.\n"
     ]
    },
    {
     "name": "stdout",
     "output_type": "stream",
     "text": [
      "成功设置中文字体: SimHei\n"
     ]
    },
    {
     "data": {
      "text/plain": [
       "'SimHei'"
      ]
     },
     "execution_count": 57,
     "metadata": {},
     "output_type": "execute_result"
    }
   ],
   "source": [
    "def setup_chinese_font():\n",
    "    \"\"\"设置matplotlib中文字体\"\"\"\n",
    "    # 获取系统中可用的中文字体\n",
    "    font_list = fm.findSystemFonts()\n",
    "    chinese_fonts = []\n",
    "    \n",
    "    # 常见的中文字体名称\n",
    "    common_chinese_fonts = [\n",
    "        'SimHei', 'Microsoft YaHei', 'STHeiti', 'WenQuanYi Micro Hei',\n",
    "        'Droid Sans Fallback', 'AR PL UKai CN', 'AR PL UMing CN',\n",
    "        'Microsoft JhengHei', 'PingFang SC', 'Hiragino Sans GB'\n",
    "    ]\n",
    "    \n",
    "    # 检查可用字体\n",
    "    for font_name in common_chinese_fonts:\n",
    "        try:\n",
    "            font_path = fm.findfont(fm.FontProperties(family=font_name))\n",
    "            if font_path:\n",
    "                chinese_fonts.append(font_name)\n",
    "        except:\n",
    "            continue\n",
    "    \n",
    "    # 设置字体\n",
    "    if chinese_fonts:\n",
    "        plt.rcParams['font.sans-serif'] = chinese_fonts\n",
    "        plt.rcParams['axes.unicode_minus'] = False\n",
    "        print(f\"成功设置中文字体: {chinese_fonts[0]}\")\n",
    "        return chinese_fonts[0]\n",
    "    else:\n",
    "        print(\"未找到中文字体，使用备用方案\")\n",
    "        return None\n",
    "\n",
    "setup_chinese_font()"
   ]
  },
  {
   "cell_type": "markdown",
   "id": "aa013300-257f-44da-afe1-1d909e71f77a",
   "metadata": {},
   "source": [
    "## 1.用户类型分布饼图"
   ]
  },
  {
   "cell_type": "code",
   "execution_count": 58,
   "id": "39ca2b9d-5362-4c7e-8e4f-da17b048ec83",
   "metadata": {},
   "outputs": [
    {
     "data": {
      "text/plain": [
       "Text(0.5, 1.0, '用户类型分布饼图')"
      ]
     },
     "execution_count": 58,
     "metadata": {},
     "output_type": "execute_result"
    },
    {
     "data": {
      "image/png": "[encoded data removed]",
      "text/plain": [
       "<Figure size 640x480 with 1 Axes>"
      ]
     },
     "metadata": {},
     "output_type": "display_data"
    }
   ],
   "source": [
    "# 1.用户类型分布饼图\n",
    "\n",
    "user_counts = df_clean['member_casual'].value_counts()\n",
    "\n",
    "# 饼图颜色\n",
    "colors = ['#1f77b4','#ff7f0e']\n",
    "\n",
    "plt.pie(user_counts.values, labels=['会员用户','临时用户'], autopct='%1.1f%%', colors=colors, startangle=90)\n",
    "plt.title(\"用户类型分布饼图\")"
   ]
  },
  {
   "cell_type": "markdown",
   "id": "f2a216b5-3d9a-43ab-b20a-f462a3f464a0",
   "metadata": {},
   "source": [
    "## 2. 骑行时长对比箱线图"
   ]
  },
  {
   "cell_type": "code",
   "execution_count": 59,
   "id": "a913074e-bd5c-48c0-8c7e-9951ae94180c",
   "metadata": {
    "editable": true,
    "slideshow": {
     "slide_type": ""
    },
    "tags": []
   },
   "outputs": [
    {
     "data": {
      "text/plain": [
       "Text(0.5, 1.0, '骑行时长分布对比')"
      ]
     },
     "execution_count": 59,
     "metadata": {},
     "output_type": "execute_result"
    },
    {
     "data": {
      "image/png": "[encoded data removed]",
      "text/plain": [
       "<Figure size 640x480 with 1 Axes>"
      ]
     },
     "metadata": {},
     "output_type": "display_data"
    }
   ],
   "source": [
    "## 2. 骑行时长对比箱线图\n",
    "df_plot = df_clean[df_clean['raid_duration_min'] <= 60]\n",
    "df_plot.sample()\n",
    "\n",
    "sns.boxplot(data=df_plot, x='member_casual' ,y='raid_duration_min')\n",
    "# 修改坐标轴标签\n",
    "plt.xlabel('用户类型')               # 修改 x 轴为中文\n",
    "plt.ylabel('骑行时长（分钟）')        # 修改 y 轴为中文\n",
    "# 设置 x 轴刻度标签（顺序与原始数据一致）\n",
    "plt.xticks(ticks=[0, 1], labels=['会员用户', '临时用户'])\n",
    "\n",
    "# 添加标题（你已添加）\n",
    "plt.title('骑行时长分布对比')"
   ]
  },
  {
   "cell_type": "markdown",
   "id": "1bf615eb-a28d-4152-b97d-f965293f1ab3",
   "metadata": {},
   "source": [
    "## 3. 每小时使用量对比"
   ]
  },
  {
   "cell_type": "code",
   "execution_count": 60,
   "id": "ea14d107-f5af-465f-87a1-23b07ab7d527",
   "metadata": {},
   "outputs": [
    {
     "data": {
      "text/plain": [
       "<matplotlib.legend.Legend at 0x255c5dd9a50>"
      ]
     },
     "execution_count": 60,
     "metadata": {},
     "output_type": "execute_result"
    },
    {
     "data": {
      "image/png": "[encoded data removed]",
      "text/plain": [
       "<Figure size 640x480 with 1 Axes>"
      ]
     },
     "metadata": {},
     "output_type": "display_data"
    }
   ],
   "source": [
    "# 对不同用户类型（member 和 casual）在每个小时的骑行次数进行对比\n",
    "'''\n",
    "groupby(['member_casual', 'start_hour'])\n",
    "→ 以用户类型和小时分组统计。\n",
    "\n",
    ".size()\n",
    "→ 统计每组的骑行次数。\n",
    "\n",
    ".unstack(level=0, fill_value=0)\n",
    "→ 把 member_casual 这个索引转换为列索引，让每个用户类型成为单独的列。\n",
    "\n",
    "kind='line'：画折线图。\n",
    "\n",
    "marker='o'：线上每个点加圆点标记。\n",
    "\n",
    "linewidth=1：线宽设置为1。\n",
    "\n",
    "'''\n",
    "hourly_usage = df_clean.groupby(['member_casual', 'start_hour']).size().unstack(level=0, fill_value=0)\n",
    "ax3 = hourly_usage.plot(kind='line', marker='o' , linewidth=1 )\n",
    "ax3.set_title('骑行时长分布')\n",
    "ax3.set_xlabel('骑行开始时间点')\n",
    "ax3.set_ylabel('骑行次数')\n",
    "ax3.legend(['临时用户', '会员用户'])"
   ]
  },
  {
   "cell_type": "markdown",
   "id": "0ea1fe5c-d637-4b70-8936-c6f5c369a01b",
   "metadata": {},
   "source": [
    "## 4. 工作日VS周末使用对比"
   ]
  },
  {
   "cell_type": "code",
   "execution_count": 61,
   "id": "e83b20f7-f2c2-490e-a170-57fca5b306a2",
   "metadata": {},
   "outputs": [
    {
     "data": {
      "text/plain": [
       "[Text(0, 0, '工作日'), Text(1, 0, '周末')]"
      ]
     },
     "execution_count": 61,
     "metadata": {},
     "output_type": "execute_result"
    },
    {
     "data": {
      "image/png": "[encoded data removed]",
      "text/plain": [
       "<Figure size 640x480 with 1 Axes>"
      ]
     },
     "metadata": {},
     "output_type": "display_data"
    }
   ],
   "source": [
    "weekend_data = df_clean.groupby(['member_casual', 'is_weekend']).size().unstack(level=0, fill_value=0)\n",
    "weekend_data_pct = weekend_data.div(weekend_data.sum()) * 100\n",
    "\n",
    "ax4 = weekend_data_pct.plot(kind='bar' , color=colors)\n",
    "\n",
    "ax4.set_title('工作日vs周末使用比例')\n",
    "ax4.set_xlabel('时间类型')\n",
    "ax4.set_ylabel('使用比例(%)')\n",
    "ax4.legend(['临时用户', '会员用户'])\n",
    "ax4.set_xticklabels(['工作日', '周末'], rotation=0)"
   ]
  },
  {
   "cell_type": "markdown",
   "id": "28930389-2a43-4cd1-8e58-d28d315c5749",
   "metadata": {},
   "source": [
    "## 5. 月度使用趋势"
   ]
  },
  {
   "cell_type": "code",
   "execution_count": 62,
   "id": "6d26719c-1994-4a56-af36-c105fa0ccc41",
   "metadata": {},
   "outputs": [
    {
     "data": {
      "text/plain": [
       "<matplotlib.legend.Legend at 0x255c68dcc90>"
      ]
     },
     "execution_count": 62,
     "metadata": {},
     "output_type": "execute_result"
    },
    {
     "data": {
      "image/png": "[encoded data removed]",
      "text/plain": [
       "<Figure size 640x480 with 1 Axes>"
      ]
     },
     "metadata": {},
     "output_type": "display_data"
    }
   ],
   "source": [
    "mouthly_usage = df_clean.groupby(['member_casual', 'start_month']).size().unstack(level=0, fill_value=0)\n",
    "\n",
    "ax5 = mouthly_usage.plot(kind='line' , color=colors, marker='s')\n",
    "\n",
    "ax5.set_title('月度使用趋势')\n",
    "ax5.set_xlabel('月份')\n",
    "ax5.set_ylabel('骑行次数')\n",
    "ax5.legend(['临时用户', '会员用户'])"
   ]
  },
  {
   "cell_type": "markdown",
   "id": "d56e07a4-99c3-4c88-ae22-3558b2a99373",
   "metadata": {},
   "source": [
    "## 6. 单车类型偏好"
   ]
  },
  {
   "cell_type": "code",
   "execution_count": 63,
   "id": "205c65c0-bcc9-4aa5-b278-9ac58b7142d9",
   "metadata": {},
   "outputs": [
    {
     "data": {
      "text/plain": [
       "<matplotlib.legend.Legend at 0x256407fdf50>"
      ]
     },
     "execution_count": 63,
     "metadata": {},
     "output_type": "execute_result"
    },
    {
     "data": {
      "image/png": "[encoded data removed]",
      "text/plain": [
       "<Figure size 600x400 with 1 Axes>"
      ]
     },
     "metadata": {},
     "output_type": "display_data"
    }
   ],
   "source": [
    "bike_perference = pd.crosstab(df_clean['member_casual'], df_clean['rideable_type'] ,normalize='index') * 100\n",
    "ax6 = bike_perference.plot(kind='bar', figsize=(6,4))\n",
    "ax6.set_title('单车使用偏好分布')\n",
    "ax6.set_xlabel('用户类型')\n",
    "ax6.set_xticklabels(['临时用户', '会员用户'], rotation=0)\n",
    "ax6.set_ylabel('使用占比(%)')\n",
    "ax6.legend(['经典自行车', '电动自行车', '电动滑板车'], title='单车类型', bbox_to_anchor=(1, 1), loc='upper left')"
   ]
  },
  {
   "cell_type": "markdown",
   "id": "c8b4571a-04f7-40e7-bd72-1eb8e3bbf62d",
   "metadata": {},
   "source": [
    "## 7. 详细时间分析"
   ]
  },
  {
   "cell_type": "markdown",
   "id": "631f3679-6b1f-4e40-8131-6558a593a7f5",
   "metadata": {},
   "source": [
    "### 周末与工作日使用模式对比分析"
   ]
  },
  {
   "cell_type": "code",
   "execution_count": 64,
   "id": "89ff9c65-09d4-4a8b-8da4-8f5519e1069b",
   "metadata": {},
   "outputs": [
    {
     "data": {
      "image/png": "[encoded data removed]",
      "text/plain": [
       "<Figure size 1400x500 with 2 Axes>"
      ]
     },
     "metadata": {},
     "output_type": "display_data"
    }
   ],
   "source": [
    "# 创建一个 1行2列 的画布（figsize 控制整体大小）\n",
    "fig, axs = plt.subplots(1, 2, figsize=(14, 5))\n",
    "\n",
    "# ================= 第一张图：周末使用模式 =================\n",
    "weekday_hourly = (df_clean[df_clean['is_weekend'] == True]\n",
    "    .groupby(['member_casual', 'start_hour'])\n",
    "    .size().unstack(level=0, fill_value=0)\n",
    "                 )\n",
    "weekday_hourly.plot(kind='line', marker='o', ax=axs[0])\n",
    "axs[0].set_title('周末全天时间点使用分布')\n",
    "axs[0].set_xlabel('时间点')\n",
    "axs[0].set_ylabel('骑行次数')\n",
    "axs[0].legend(['临时用户', '会员用户'])\n",
    "\n",
    "# 设置 y 轴显示格式为千分位\n",
    "axs[0].yaxis.set_major_formatter(StrMethodFormatter('{x:,.0f}'))\n",
    "\n",
    "# 设置x轴刻度（完整24小时）\n",
    "axs[0].set_xticks(np.arange(0, 25, 1))  # 0-23小时\n",
    "axs[0].set_xlim(0, 24)  # 确保包含全部小时\n",
    "\n",
    "# ================= 第二张图：工作日骑行分布 =================\n",
    "weekday_hourly = (df_clean[df_clean['is_weekend'] == False]\n",
    "    .groupby(['member_casual', 'start_hour'])\n",
    "    .size().unstack(level=0, fill_value=0)\n",
    "                 )\n",
    "\n",
    "weekday_hourly.plot(kind='line', marker='o', ax=axs[1])  # ← 用 axs[1] 指定子图\n",
    "axs[1].set_title('工作日全天时间点使用分布')\n",
    "axs[1].set_xlabel('时间点')\n",
    "axs[1].set_ylabel('骑行次数')\n",
    "axs[1].legend(['临时用户', '会员用户'])\n",
    "\n",
    "# 设置x轴刻度（完整24小时）\n",
    "axs[1].set_xticks(np.arange(0, 25, 1))  # 0-23小时\n",
    "axs[1].set_xlim(0, 24)  # 确保包含全部小时\n",
    "\n",
    "# 设置 y 轴显示格式为千分位\n",
    "axs[1].yaxis.set_major_formatter(StrMethodFormatter('{x:,.0f}'))\n",
    "# =========================================================\n",
    "\n",
    "# 自动调整布局，避免重叠\n",
    "plt.tight_layout(pad=2)\n",
    "\n",
    "plt.show()"
   ]
  },
  {
   "cell_type": "markdown",
   "id": "b7141155-0b1b-4703-9a4d-545f749ebca6",
   "metadata": {},
   "source": [
    "### 骑行时长分箱图"
   ]
  },
  {
   "cell_type": "code",
   "execution_count": 65,
   "id": "4fd5872d-d45e-4ab9-8fe6-f7c645af877f",
   "metadata": {},
   "outputs": [
    {
     "name": "stdout",
     "output_type": "stream",
     "text": [
      "member_casual   casual  member\n",
      "duration_range                \n",
      "0-5分钟            16.04   24.33\n",
      "5-10分钟           25.85   32.78\n",
      "10-15分钟          17.91   18.55\n",
      "15-30分钟          23.45   18.67\n",
      "30-60分钟          11.35    5.08\n",
      "1-2小时             4.37    0.48\n",
      "2-4小时             1.04    0.11\n"
     ]
    },
    {
     "data": {
      "image/png": "[encoded data removed]",
      "text/plain": [
       "<Figure size 1200x600 with 1 Axes>"
      ]
     },
     "metadata": {},
     "output_type": "display_data"
    }
   ],
   "source": [
    "# 第一步先获取 所需的 数据交叉表，需要我们创建新字段\n",
    "# 1. 分箱设置：定义骑行时间的区间\n",
    "'''\n",
    "duration_ranges 是分箱的边界（单位：分钟）\n",
    "labels 是每个区间对应的标签，用来给每个时间段起名字\n",
    "'''\n",
    "duration_ranges = [0, 5, 10, 15, 30, 60, 120, 240] # 分钟\n",
    "labels = ['0-5分钟', '5-10分钟', '10-15分钟', '15-30分钟','30-60分钟', '1-2小时', '2-4小时']\n",
    "\n",
    "# 2. 新增字段 duration_range：将时长数据映射到分箱标签\n",
    "'''\n",
    "pd.cut() 会把每条记录的 raid_duration_min（骑行分钟数）按时间区间分箱，返回一个分类类型（category）\n",
    "比如一条数据 raid_duration_min = 8，就会归为 \"5-10分钟\" 这类\n",
    "'''\n",
    "df_clean['duration_range'] = pd.cut(df_clean['raid_duration_min'], bins=duration_ranges, labels=labels)\n",
    "\n",
    "\n",
    "# 3. 使用 pd.crosstab 分析各时间段的用户类型比例  : 交叉表，按用户类型分列并归一化（即百分比）\n",
    "'''\n",
    "pd.crosstab(...) 生成一个交叉表：\n",
    "行：每个骑行时长区间（分好的 0-5分钟、5-10分钟等）\n",
    "列：用户类型（member_casual，例如 \"member\" 和 \"casual\"）\n",
    "每个单元格：在对应用户类型中，该时间段占的比例（因为用了 normalize='columns'）\n",
    "\n",
    "结果乘以 100，将小数变成百分数。\n",
    "'''\n",
    "duration_analysis = pd.crosstab(df_clean['duration_range'], df_clean['member_casual'], normalize = 'columns') * 100\n",
    "print(duration_analysis)\n",
    "\n",
    "# 设置绘图框架\n",
    "fig, ax = plt.subplots(1, 1, figsize=(12,6))\n",
    "# 绘图\n",
    "duration_analysis.plot(kind='bar', ax=ax)\n",
    "\n",
    "# 美化图表\n",
    "ax.set_title('骑行时长分布占比')\n",
    "ax.set_xlabel('时间段')\n",
    "ax.set_ylabel('使用占比(%)')\n",
    "ax.legend(['临时用户', '会员用户'])\n",
    "ax.set_ylim(0, 40)  # 设置 y 轴范围为 0-0.4\n",
    "plt.xticks(rotation=0)\n",
    "# 添加网格\n",
    "plt.grid(axis='y', linestyle='--', alpha=0.7)\n",
    "\n",
    "# 避免标签遮挡\n",
    "plt.tight_layout()\n",
    "\n",
    "plt.show()\n"
   ]
  },
  {
   "cell_type": "markdown",
   "id": "64bfc7a2-b5c2-4fa8-a229-331fb14447f8",
   "metadata": {},
   "source": [
    "观察到的模式：\n",
    "- 会员用户在工作日早晚高峰(7-9点，17-19点) 使用量明显增多\n",
    "- 临时用户更倾向于周末使用，且使用时间更分散\n",
    "- 临时用户的骑行时长普遍比会员用户更长\n",
    "- 夏季6-9月是两类用户使用的高峰期"
   ]
  },
  {
   "cell_type": "code",
   "execution_count": null,
   "id": "b8dd0880-1a77-4ecd-891c-978c5f7d3823",
   "metadata": {},
   "outputs": [],
   "source": []
  }
 ],
 "metadata": {
  "kernelspec": {
   "display_name": "Python 3 (ipykernel)",
   "language": "python",
   "name": "python3"
  },
  "language_info": {
   "codemirror_mode": {
    "name": "ipython",
    "version": 3
   },
   "file_extension": ".py",
   "mimetype": "text/x-python",
   "name": "python",
   "nbconvert_exporter": "python",
   "pygments_lexer": "ipython3",
   "version": "3.11.9"
  },
  "toc": {
   "base_numbering": 0
  }
 },
 "nbformat": 4,
 "nbformat_minor": 5
}
